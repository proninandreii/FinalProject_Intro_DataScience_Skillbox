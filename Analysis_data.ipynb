{
 "cells": [
  {
   "cell_type": "code",
   "execution_count": 10,
   "id": "d025178a",
   "metadata": {
    "ExecuteTime": {
     "end_time": "2023-10-17T15:29:25.221595Z",
     "start_time": "2023-10-17T15:29:24.371531Z"
    }
   },
   "outputs": [],
   "source": [
    "import pandas as pd\n",
    "import numpy as np\n",
    "import matplotlib.pyplot as plt\n",
    "import re\n",
    "import matplotlib.pyplot as plt\n",
    "import seaborn as sns\n",
    "from transliterate import translit\n",
    "import json"
   ]
  },
  {
   "cell_type": "code",
   "execution_count": 11,
   "id": "be893b41",
   "metadata": {
    "ExecuteTime": {
     "end_time": "2023-10-17T15:29:59.154003Z",
     "start_time": "2023-10-17T15:29:24.372862Z"
    }
   },
   "outputs": [],
   "source": [
    "#Считываем данные\n",
    "df_hits = pd.read_csv('ga_hits.csv')\n",
    "df_sessions = pd.read_csv('ga_sessions.csv', low_memory=False)"
   ]
  },
  {
   "cell_type": "code",
   "execution_count": 12,
   "outputs": [
    {
     "name": "stdout",
     "output_type": "stream",
     "text": [
      "Случайные строки без пропусков сохранены в random_data.json\n"
     ]
    }
   ],
   "source": [
    "df_clean = df_sessions.dropna()\n",
    "\n",
    "# Возьмите 5 случайных строк\n",
    "random_rows = df_clean.sample(n=5)\n",
    "\n",
    "# Преобразуйте DataFrame в список словарей\n",
    "data_to_save = random_rows.to_dict(orient='records')\n",
    "\n",
    "# Сохраните данные в JSON файл\n",
    "with open('random_data.json', 'w') as json_file:\n",
    "    json.dump(data_to_save, json_file, indent=4)\n",
    "\n",
    "print(\"Случайные строки без пропусков сохранены в random_data.json\")"
   ],
   "metadata": {
    "collapsed": false,
    "ExecuteTime": {
     "end_time": "2023-10-17T15:29:59.722601Z",
     "start_time": "2023-10-17T15:29:59.696969Z"
    }
   },
   "id": "2c345eafa7a355a1"
  },
  {
   "cell_type": "code",
   "execution_count": 13,
   "id": "6b2e5810",
   "metadata": {
    "ExecuteTime": {
     "end_time": "2023-10-17T15:29:59.788530Z",
     "start_time": "2023-10-17T15:29:59.734129Z"
    }
   },
   "outputs": [
    {
     "data": {
      "text/plain": "                                  session_id    hit_date  hit_time  \\\n0  5639623078712724064.1640254056.1640254056  2021-12-23  597864.0   \n1  7750352294969115059.1640271109.1640271109  2021-12-23  597331.0   \n2   885342191847998240.1640235807.1640235807  2021-12-23  796252.0   \n3   142526202120934167.1640211014.1640211014  2021-12-23  934292.0   \n4  3450086108837475701.1640265078.1640265078  2021-12-23  768741.0   \n\n   hit_number hit_type hit_referer  \\\n0          30    event         NaN   \n1          41    event         NaN   \n2          49    event         NaN   \n3          46    event         NaN   \n4          79    event         NaN   \n\n                                       hit_page_path event_category  \\\n0  sberauto.com/cars?utm_source_initial=google&ut...           quiz   \n1  sberauto.com/cars/fiat?city=1&city=18&rental_c...           quiz   \n2  sberauto.com/cars/all/volkswagen/polo/e994838f...           quiz   \n3  sberauto.com/cars?utm_source_initial=yandex&ut...           quiz   \n4  sberauto.com/cars/all/mercedes-benz/cla-klasse...           quiz   \n\n  event_action event_label  event_value  \n0    quiz_show         NaN          NaN  \n1    quiz_show         NaN          NaN  \n2    quiz_show         NaN          NaN  \n3    quiz_show         NaN          NaN  \n4    quiz_show         NaN          NaN  ",
      "text/html": "<div>\n<style scoped>\n    .dataframe tbody tr th:only-of-type {\n        vertical-align: middle;\n    }\n\n    .dataframe tbody tr th {\n        vertical-align: top;\n    }\n\n    .dataframe thead th {\n        text-align: right;\n    }\n</style>\n<table border=\"1\" class=\"dataframe\">\n  <thead>\n    <tr style=\"text-align: right;\">\n      <th></th>\n      <th>session_id</th>\n      <th>hit_date</th>\n      <th>hit_time</th>\n      <th>hit_number</th>\n      <th>hit_type</th>\n      <th>hit_referer</th>\n      <th>hit_page_path</th>\n      <th>event_category</th>\n      <th>event_action</th>\n      <th>event_label</th>\n      <th>event_value</th>\n    </tr>\n  </thead>\n  <tbody>\n    <tr>\n      <th>0</th>\n      <td>5639623078712724064.1640254056.1640254056</td>\n      <td>2021-12-23</td>\n      <td>597864.0</td>\n      <td>30</td>\n      <td>event</td>\n      <td>NaN</td>\n      <td>sberauto.com/cars?utm_source_initial=google&amp;ut...</td>\n      <td>quiz</td>\n      <td>quiz_show</td>\n      <td>NaN</td>\n      <td>NaN</td>\n    </tr>\n    <tr>\n      <th>1</th>\n      <td>7750352294969115059.1640271109.1640271109</td>\n      <td>2021-12-23</td>\n      <td>597331.0</td>\n      <td>41</td>\n      <td>event</td>\n      <td>NaN</td>\n      <td>sberauto.com/cars/fiat?city=1&amp;city=18&amp;rental_c...</td>\n      <td>quiz</td>\n      <td>quiz_show</td>\n      <td>NaN</td>\n      <td>NaN</td>\n    </tr>\n    <tr>\n      <th>2</th>\n      <td>885342191847998240.1640235807.1640235807</td>\n      <td>2021-12-23</td>\n      <td>796252.0</td>\n      <td>49</td>\n      <td>event</td>\n      <td>NaN</td>\n      <td>sberauto.com/cars/all/volkswagen/polo/e994838f...</td>\n      <td>quiz</td>\n      <td>quiz_show</td>\n      <td>NaN</td>\n      <td>NaN</td>\n    </tr>\n    <tr>\n      <th>3</th>\n      <td>142526202120934167.1640211014.1640211014</td>\n      <td>2021-12-23</td>\n      <td>934292.0</td>\n      <td>46</td>\n      <td>event</td>\n      <td>NaN</td>\n      <td>sberauto.com/cars?utm_source_initial=yandex&amp;ut...</td>\n      <td>quiz</td>\n      <td>quiz_show</td>\n      <td>NaN</td>\n      <td>NaN</td>\n    </tr>\n    <tr>\n      <th>4</th>\n      <td>3450086108837475701.1640265078.1640265078</td>\n      <td>2021-12-23</td>\n      <td>768741.0</td>\n      <td>79</td>\n      <td>event</td>\n      <td>NaN</td>\n      <td>sberauto.com/cars/all/mercedes-benz/cla-klasse...</td>\n      <td>quiz</td>\n      <td>quiz_show</td>\n      <td>NaN</td>\n      <td>NaN</td>\n    </tr>\n  </tbody>\n</table>\n</div>"
     },
     "execution_count": 13,
     "metadata": {},
     "output_type": "execute_result"
    }
   ],
   "source": [
    "df_hits.head()"
   ]
  },
  {
   "cell_type": "code",
   "execution_count": 14,
   "outputs": [
    {
     "name": "stdout",
     "output_type": "stream",
     "text": [
      "<class 'pandas.core.frame.DataFrame'>\n",
      "RangeIndex: 15726470 entries, 0 to 15726469\n",
      "Data columns (total 11 columns):\n",
      " #   Column          Dtype  \n",
      "---  ------          -----  \n",
      " 0   session_id      object \n",
      " 1   hit_date        object \n",
      " 2   hit_time        float64\n",
      " 3   hit_number      int64  \n",
      " 4   hit_type        object \n",
      " 5   hit_referer     object \n",
      " 6   hit_page_path   object \n",
      " 7   event_category  object \n",
      " 8   event_action    object \n",
      " 9   event_label     object \n",
      " 10  event_value     float64\n",
      "dtypes: float64(2), int64(1), object(8)\n",
      "memory usage: 1.3+ GB\n"
     ]
    }
   ],
   "source": [
    "df_hits.info()"
   ],
   "metadata": {
    "collapsed": false,
    "ExecuteTime": {
     "end_time": "2023-10-17T15:29:59.860620Z",
     "start_time": "2023-10-17T15:29:59.745894Z"
    }
   },
   "id": "4c32521cea52222"
  },
  {
   "cell_type": "code",
   "execution_count": 15,
   "id": "206178c8",
   "metadata": {
    "ExecuteTime": {
     "end_time": "2023-10-17T15:30:02.308460Z",
     "start_time": "2023-10-17T15:29:59.775700Z"
    }
   },
   "outputs": [
    {
     "data": {
      "text/plain": "session_id               0\nhit_date                 0\nhit_time           9160322\nhit_number               0\nhit_type                 0\nhit_referer        6274804\nhit_page_path            0\nevent_category           0\nevent_action             0\nevent_label        3760184\nevent_value       15726470\ndtype: int64"
     },
     "execution_count": 15,
     "metadata": {},
     "output_type": "execute_result"
    }
   ],
   "source": [
    "#Сразу смотрим пропуски в датафрейме\n",
    "df_hits.isna().sum()"
   ]
  },
  {
   "cell_type": "code",
   "execution_count": 16,
   "id": "b490394d",
   "metadata": {
    "ExecuteTime": {
     "end_time": "2023-10-17T15:30:11.058995Z",
     "start_time": "2023-10-17T15:30:02.635623Z"
    }
   },
   "outputs": [
    {
     "data": {
      "text/plain": "session_id        1734610\nhit_date              226\nhit_time           925887\nhit_number            500\nhit_type                1\nhit_referer         37873\nhit_page_path      342715\nevent_category         52\nevent_action          230\nevent_label         39825\nevent_value             0\ndtype: int64"
     },
     "execution_count": 16,
     "metadata": {},
     "output_type": "execute_result"
    }
   ],
   "source": [
    "df_hits.nunique()"
   ]
  },
  {
   "cell_type": "code",
   "execution_count": 17,
   "id": "c4956e4c",
   "metadata": {
    "ExecuteTime": {
     "end_time": "2023-10-17T15:30:11.281814Z",
     "start_time": "2023-10-17T15:30:11.280620Z"
    }
   },
   "outputs": [],
   "source": [
    "columns_to_drop1 = ['hit_page_path', 'hit_time', 'hit_referer', 'event_value', 'event_label', 'event_category', 'hit_number', 'hit_date', 'hit_type'] \n",
    "df_hits = df_hits.drop(columns=columns_to_drop1)\n",
    "#В колонках на дроп: много пропусков, 1 уникальное значение, сильная корреляция с целевым признаком, время, которое будет дублироваться в другом датасете"
   ]
  },
  {
   "cell_type": "code",
   "execution_count": 18,
   "id": "bca950d8",
   "metadata": {
    "ExecuteTime": {
     "end_time": "2023-10-17T15:30:11.284756Z",
     "start_time": "2023-10-17T15:30:11.282405Z"
    }
   },
   "outputs": [],
   "source": [
    "#df['Brand'] = df['hit_page_path'].str.split('/').str[-3]\n",
    "#df.Brand.unique()\n",
    "#Попробовал посмотреть, что будет если вытащить марку машины, но по итогу получаем помимо брендов еще и кучу мусора\n",
    "#Поэтому тоже дроп"
   ]
  },
  {
   "cell_type": "code",
   "execution_count": 19,
   "id": "54d6433b",
   "metadata": {
    "ExecuteTime": {
     "end_time": "2023-10-17T15:30:11.656617Z",
     "start_time": "2023-10-17T15:30:11.285716Z"
    }
   },
   "outputs": [
    {
     "data": {
      "text/plain": "                                  session_id  target\n0  5639623078712724064.1640254056.1640254056       0\n1  7750352294969115059.1640271109.1640271109       0\n2   885342191847998240.1640235807.1640235807       0\n3   142526202120934167.1640211014.1640211014       0\n4  3450086108837475701.1640265078.1640265078       0",
      "text/html": "<div>\n<style scoped>\n    .dataframe tbody tr th:only-of-type {\n        vertical-align: middle;\n    }\n\n    .dataframe tbody tr th {\n        vertical-align: top;\n    }\n\n    .dataframe thead th {\n        text-align: right;\n    }\n</style>\n<table border=\"1\" class=\"dataframe\">\n  <thead>\n    <tr style=\"text-align: right;\">\n      <th></th>\n      <th>session_id</th>\n      <th>target</th>\n    </tr>\n  </thead>\n  <tbody>\n    <tr>\n      <th>0</th>\n      <td>5639623078712724064.1640254056.1640254056</td>\n      <td>0</td>\n    </tr>\n    <tr>\n      <th>1</th>\n      <td>7750352294969115059.1640271109.1640271109</td>\n      <td>0</td>\n    </tr>\n    <tr>\n      <th>2</th>\n      <td>885342191847998240.1640235807.1640235807</td>\n      <td>0</td>\n    </tr>\n    <tr>\n      <th>3</th>\n      <td>142526202120934167.1640211014.1640211014</td>\n      <td>0</td>\n    </tr>\n    <tr>\n      <th>4</th>\n      <td>3450086108837475701.1640265078.1640265078</td>\n      <td>0</td>\n    </tr>\n  </tbody>\n</table>\n</div>"
     },
     "execution_count": 19,
     "metadata": {},
     "output_type": "execute_result"
    }
   ],
   "source": [
    "#Выделим целевые действия в 1, остальное в 0\n",
    "df_hits['target'] = 0\n",
    "\n",
    "target_events = ['sub_car_claim_click', 'sub_car_claim_submit_click', 'sub_open_dialog_click', 'sub_custom_question_submit_click', 'sub_call_number_click', 'sub_callback_submit_click', 'sub_submit_success', 'sub_car_request_submit_click']\n",
    "\n",
    "df_hits.loc[df_hits['event_action'].isin(target_events), 'target'] = 1\n",
    "\n",
    "df_hits = df_hits.drop('event_action', axis=1)\n",
    "df_hits.head()"
   ]
  },
  {
   "cell_type": "code",
   "execution_count": 20,
   "id": "003eea94",
   "metadata": {
    "ExecuteTime": {
     "end_time": "2023-10-17T15:30:11.659637Z",
     "start_time": "2023-10-17T15:30:11.657329Z"
    }
   },
   "outputs": [
    {
     "data": {
      "text/plain": "(15726470, 2)"
     },
     "execution_count": 20,
     "metadata": {},
     "output_type": "execute_result"
    }
   ],
   "source": [
    "df_hits.shape"
   ]
  },
  {
   "cell_type": "code",
   "execution_count": 21,
   "id": "cfce9844",
   "metadata": {
    "ExecuteTime": {
     "end_time": "2023-10-17T15:30:11.669590Z",
     "start_time": "2023-10-17T15:30:11.661482Z"
    }
   },
   "outputs": [
    {
     "data": {
      "text/plain": "                                  session_id  target\n0  5639623078712724064.1640254056.1640254056       0\n1  7750352294969115059.1640271109.1640271109       0\n2   885342191847998240.1640235807.1640235807       0\n3   142526202120934167.1640211014.1640211014       0\n4  3450086108837475701.1640265078.1640265078       0",
      "text/html": "<div>\n<style scoped>\n    .dataframe tbody tr th:only-of-type {\n        vertical-align: middle;\n    }\n\n    .dataframe tbody tr th {\n        vertical-align: top;\n    }\n\n    .dataframe thead th {\n        text-align: right;\n    }\n</style>\n<table border=\"1\" class=\"dataframe\">\n  <thead>\n    <tr style=\"text-align: right;\">\n      <th></th>\n      <th>session_id</th>\n      <th>target</th>\n    </tr>\n  </thead>\n  <tbody>\n    <tr>\n      <th>0</th>\n      <td>5639623078712724064.1640254056.1640254056</td>\n      <td>0</td>\n    </tr>\n    <tr>\n      <th>1</th>\n      <td>7750352294969115059.1640271109.1640271109</td>\n      <td>0</td>\n    </tr>\n    <tr>\n      <th>2</th>\n      <td>885342191847998240.1640235807.1640235807</td>\n      <td>0</td>\n    </tr>\n    <tr>\n      <th>3</th>\n      <td>142526202120934167.1640211014.1640211014</td>\n      <td>0</td>\n    </tr>\n    <tr>\n      <th>4</th>\n      <td>3450086108837475701.1640265078.1640265078</td>\n      <td>0</td>\n    </tr>\n  </tbody>\n</table>\n</div>"
     },
     "execution_count": 21,
     "metadata": {},
     "output_type": "execute_result"
    }
   ],
   "source": [
    "df_hits.head()"
   ]
  },
  {
   "cell_type": "code",
   "execution_count": 22,
   "id": "9ee9b2b3",
   "metadata": {
    "ExecuteTime": {
     "end_time": "2023-10-17T15:30:16.621165Z",
     "start_time": "2023-10-17T15:30:11.734744Z"
    }
   },
   "outputs": [],
   "source": [
    "df_hits = df_hits.groupby(['session_id', 'target'], as_index=False).max()"
   ]
  },
  {
   "cell_type": "code",
   "execution_count": 23,
   "id": "becc8063",
   "metadata": {
    "ExecuteTime": {
     "end_time": "2023-10-17T15:30:16.629069Z",
     "start_time": "2023-10-17T15:30:16.624075Z"
    }
   },
   "outputs": [
    {
     "data": {
      "text/plain": "(1784748, 2)"
     },
     "execution_count": 23,
     "metadata": {},
     "output_type": "execute_result"
    }
   ],
   "source": [
    "df_hits.shape"
   ]
  },
  {
   "cell_type": "code",
   "execution_count": 24,
   "id": "19ab8c9e",
   "metadata": {
    "ExecuteTime": {
     "end_time": "2023-10-17T15:30:16.635098Z",
     "start_time": "2023-10-17T15:30:16.628535Z"
    }
   },
   "outputs": [
    {
     "data": {
      "text/plain": "                                  session_id  target\n0  1000009318903347362.1632663668.1632663668       0\n1  1000010177899156286.1635013443.1635013443       0\n2  1000013386240115915.1635402956.1635402956       0\n3  1000017303238376207.1623489300.1623489300       0\n4  1000020580299877109.1624943350.1624943350       0",
      "text/html": "<div>\n<style scoped>\n    .dataframe tbody tr th:only-of-type {\n        vertical-align: middle;\n    }\n\n    .dataframe tbody tr th {\n        vertical-align: top;\n    }\n\n    .dataframe thead th {\n        text-align: right;\n    }\n</style>\n<table border=\"1\" class=\"dataframe\">\n  <thead>\n    <tr style=\"text-align: right;\">\n      <th></th>\n      <th>session_id</th>\n      <th>target</th>\n    </tr>\n  </thead>\n  <tbody>\n    <tr>\n      <th>0</th>\n      <td>1000009318903347362.1632663668.1632663668</td>\n      <td>0</td>\n    </tr>\n    <tr>\n      <th>1</th>\n      <td>1000010177899156286.1635013443.1635013443</td>\n      <td>0</td>\n    </tr>\n    <tr>\n      <th>2</th>\n      <td>1000013386240115915.1635402956.1635402956</td>\n      <td>0</td>\n    </tr>\n    <tr>\n      <th>3</th>\n      <td>1000017303238376207.1623489300.1623489300</td>\n      <td>0</td>\n    </tr>\n    <tr>\n      <th>4</th>\n      <td>1000020580299877109.1624943350.1624943350</td>\n      <td>0</td>\n    </tr>\n  </tbody>\n</table>\n</div>"
     },
     "execution_count": 24,
     "metadata": {},
     "output_type": "execute_result"
    }
   ],
   "source": [
    "df_hits.head()"
   ]
  },
  {
   "cell_type": "code",
   "execution_count": 25,
   "id": "df2e01b7",
   "metadata": {
    "ExecuteTime": {
     "end_time": "2023-10-17T15:30:16.635432Z",
     "start_time": "2023-10-17T15:30:16.631283Z"
    }
   },
   "outputs": [
    {
     "data": {
      "text/plain": "(1860042, 18)"
     },
     "execution_count": 25,
     "metadata": {},
     "output_type": "execute_result"
    }
   ],
   "source": [
    "df_sessions.shape"
   ]
  },
  {
   "cell_type": "code",
   "execution_count": 26,
   "id": "cd8b7f6d",
   "metadata": {
    "ExecuteTime": {
     "end_time": "2023-10-17T15:30:16.650372Z",
     "start_time": "2023-10-17T15:30:16.636385Z"
    }
   },
   "outputs": [
    {
     "data": {
      "text/plain": "                                  session_id              client_id  \\\n0  9055434745589932991.1637753792.1637753792  2108382700.1637753791   \n1   905544597018549464.1636867290.1636867290   210838531.1636867288   \n2  9055446045651783499.1640648526.1640648526  2108385331.1640648523   \n3  9055447046360770272.1622255328.1622255328  2108385564.1622255328   \n4  9055447046360770272.1622255345.1622255345  2108385564.1622255328   \n\n   visit_date visit_time  visit_number            utm_source utm_medium  \\\n0  2021-11-24   14:36:32             1  ZpYIoDJMcFzVoPFsHGJL     banner   \n1  2021-11-14   08:21:30             1  MvfHsxITijuriZxsqZqt        cpm   \n2  2021-12-28   02:42:06             1  ZpYIoDJMcFzVoPFsHGJL     banner   \n3  2021-05-29   05:00:00             1  kjsLglQLzykiRbcDiGcD        cpc   \n4  2021-05-29   05:00:00             2  kjsLglQLzykiRbcDiGcD        cpc   \n\n           utm_campaign         utm_adcontent           utm_keyword  \\\n0  LEoPHuyFvzoNfnzGgfcd  vCIpmpaGBnIQhyYNkXqp  puhZPIYqKXeFPaUviSjo   \n1  FTjNLDyTrXaWYgZymFkV  xhoenQgDQsgfEPYNPwKO  IGUCNvHlhfHpROGclCit   \n2  LEoPHuyFvzoNfnzGgfcd  vCIpmpaGBnIQhyYNkXqp  puhZPIYqKXeFPaUviSjo   \n3                   NaN  NOBKLgtuvqYWkXQHeYWM                   NaN   \n4                   NaN                   NaN                   NaN   \n\n  device_category device_os device_brand device_model  \\\n0          mobile   Android       Huawei          NaN   \n1          mobile   Android      Samsung          NaN   \n2          mobile   Android       Huawei          NaN   \n3          mobile       NaN       Xiaomi          NaN   \n4          mobile       NaN       Xiaomi          NaN   \n\n  device_screen_resolution    device_browser geo_country     geo_city  \n0                  360x720            Chrome      Russia     Zlatoust  \n1                  385x854  Samsung Internet      Russia       Moscow  \n2                  360x720            Chrome      Russia  Krasnoyarsk  \n3                  393x786            Chrome      Russia       Moscow  \n4                  393x786            Chrome      Russia       Moscow  ",
      "text/html": "<div>\n<style scoped>\n    .dataframe tbody tr th:only-of-type {\n        vertical-align: middle;\n    }\n\n    .dataframe tbody tr th {\n        vertical-align: top;\n    }\n\n    .dataframe thead th {\n        text-align: right;\n    }\n</style>\n<table border=\"1\" class=\"dataframe\">\n  <thead>\n    <tr style=\"text-align: right;\">\n      <th></th>\n      <th>session_id</th>\n      <th>client_id</th>\n      <th>visit_date</th>\n      <th>visit_time</th>\n      <th>visit_number</th>\n      <th>utm_source</th>\n      <th>utm_medium</th>\n      <th>utm_campaign</th>\n      <th>utm_adcontent</th>\n      <th>utm_keyword</th>\n      <th>device_category</th>\n      <th>device_os</th>\n      <th>device_brand</th>\n      <th>device_model</th>\n      <th>device_screen_resolution</th>\n      <th>device_browser</th>\n      <th>geo_country</th>\n      <th>geo_city</th>\n    </tr>\n  </thead>\n  <tbody>\n    <tr>\n      <th>0</th>\n      <td>9055434745589932991.1637753792.1637753792</td>\n      <td>2108382700.1637753791</td>\n      <td>2021-11-24</td>\n      <td>14:36:32</td>\n      <td>1</td>\n      <td>ZpYIoDJMcFzVoPFsHGJL</td>\n      <td>banner</td>\n      <td>LEoPHuyFvzoNfnzGgfcd</td>\n      <td>vCIpmpaGBnIQhyYNkXqp</td>\n      <td>puhZPIYqKXeFPaUviSjo</td>\n      <td>mobile</td>\n      <td>Android</td>\n      <td>Huawei</td>\n      <td>NaN</td>\n      <td>360x720</td>\n      <td>Chrome</td>\n      <td>Russia</td>\n      <td>Zlatoust</td>\n    </tr>\n    <tr>\n      <th>1</th>\n      <td>905544597018549464.1636867290.1636867290</td>\n      <td>210838531.1636867288</td>\n      <td>2021-11-14</td>\n      <td>08:21:30</td>\n      <td>1</td>\n      <td>MvfHsxITijuriZxsqZqt</td>\n      <td>cpm</td>\n      <td>FTjNLDyTrXaWYgZymFkV</td>\n      <td>xhoenQgDQsgfEPYNPwKO</td>\n      <td>IGUCNvHlhfHpROGclCit</td>\n      <td>mobile</td>\n      <td>Android</td>\n      <td>Samsung</td>\n      <td>NaN</td>\n      <td>385x854</td>\n      <td>Samsung Internet</td>\n      <td>Russia</td>\n      <td>Moscow</td>\n    </tr>\n    <tr>\n      <th>2</th>\n      <td>9055446045651783499.1640648526.1640648526</td>\n      <td>2108385331.1640648523</td>\n      <td>2021-12-28</td>\n      <td>02:42:06</td>\n      <td>1</td>\n      <td>ZpYIoDJMcFzVoPFsHGJL</td>\n      <td>banner</td>\n      <td>LEoPHuyFvzoNfnzGgfcd</td>\n      <td>vCIpmpaGBnIQhyYNkXqp</td>\n      <td>puhZPIYqKXeFPaUviSjo</td>\n      <td>mobile</td>\n      <td>Android</td>\n      <td>Huawei</td>\n      <td>NaN</td>\n      <td>360x720</td>\n      <td>Chrome</td>\n      <td>Russia</td>\n      <td>Krasnoyarsk</td>\n    </tr>\n    <tr>\n      <th>3</th>\n      <td>9055447046360770272.1622255328.1622255328</td>\n      <td>2108385564.1622255328</td>\n      <td>2021-05-29</td>\n      <td>05:00:00</td>\n      <td>1</td>\n      <td>kjsLglQLzykiRbcDiGcD</td>\n      <td>cpc</td>\n      <td>NaN</td>\n      <td>NOBKLgtuvqYWkXQHeYWM</td>\n      <td>NaN</td>\n      <td>mobile</td>\n      <td>NaN</td>\n      <td>Xiaomi</td>\n      <td>NaN</td>\n      <td>393x786</td>\n      <td>Chrome</td>\n      <td>Russia</td>\n      <td>Moscow</td>\n    </tr>\n    <tr>\n      <th>4</th>\n      <td>9055447046360770272.1622255345.1622255345</td>\n      <td>2108385564.1622255328</td>\n      <td>2021-05-29</td>\n      <td>05:00:00</td>\n      <td>2</td>\n      <td>kjsLglQLzykiRbcDiGcD</td>\n      <td>cpc</td>\n      <td>NaN</td>\n      <td>NaN</td>\n      <td>NaN</td>\n      <td>mobile</td>\n      <td>NaN</td>\n      <td>Xiaomi</td>\n      <td>NaN</td>\n      <td>393x786</td>\n      <td>Chrome</td>\n      <td>Russia</td>\n      <td>Moscow</td>\n    </tr>\n  </tbody>\n</table>\n</div>"
     },
     "execution_count": 26,
     "metadata": {},
     "output_type": "execute_result"
    }
   ],
   "source": [
    "df_sessions.head()"
   ]
  },
  {
   "cell_type": "code",
   "execution_count": 27,
   "id": "e4d43e69",
   "metadata": {
    "ExecuteTime": {
     "end_time": "2023-10-17T15:30:17.319076Z",
     "start_time": "2023-10-17T15:30:16.639116Z"
    }
   },
   "outputs": [
    {
     "data": {
      "text/plain": "session_id                        0\nclient_id                         0\nvisit_date                        0\nvisit_time                        0\nvisit_number                      0\nutm_source                       97\nutm_medium                        0\nutm_campaign                 219603\nutm_adcontent                335615\nutm_keyword                 1082061\ndevice_category                   0\ndevice_os                   1070138\ndevice_brand                 367178\ndevice_model                1843704\ndevice_screen_resolution          0\ndevice_browser                    0\ngeo_country                       0\ngeo_city                          0\ndtype: int64"
     },
     "execution_count": 27,
     "metadata": {},
     "output_type": "execute_result"
    }
   ],
   "source": [
    "#Относительно всего датасета пропусков не так много, поэтому будет рассматривать каждую колонку в отдельности \n",
    "df_sessions.isna().sum()"
   ]
  },
  {
   "cell_type": "code",
   "execution_count": 28,
   "id": "fdbe9154",
   "metadata": {
    "ExecuteTime": {
     "end_time": "2023-10-17T15:30:18.888907Z",
     "start_time": "2023-10-17T15:30:18.331175Z"
    }
   },
   "outputs": [],
   "source": [
    "df = df_sessions.merge(df_hits, how='inner', on='session_id')"
   ]
  },
  {
   "cell_type": "code",
   "execution_count": 29,
   "id": "1c0bda4f",
   "metadata": {
    "ExecuteTime": {
     "end_time": "2023-10-17T15:30:19.416107Z",
     "start_time": "2023-10-17T15:30:18.889282Z"
    }
   },
   "outputs": [
    {
     "data": {
      "text/plain": "session_id                        0\nclient_id                         0\nvisit_date                        0\nvisit_time                        0\nvisit_number                      0\nutm_source                       81\nutm_medium                        0\nutm_campaign                 202378\nutm_adcontent                312744\nutm_keyword                 1054898\ndevice_category                   0\ndevice_os                   1047964\ndevice_brand                 358403\ndevice_model                1766572\ndevice_screen_resolution          0\ndevice_browser                    0\ngeo_country                       0\ngeo_city                          0\ntarget                            0\ndtype: int64"
     },
     "execution_count": 29,
     "metadata": {},
     "output_type": "execute_result"
    }
   ],
   "source": [
    "df.isna().sum()"
   ]
  },
  {
   "cell_type": "code",
   "execution_count": 30,
   "outputs": [
    {
     "data": {
      "text/plain": "utm_keyword\npuhZPIYqKXeFPaUviSjo    477062\naXQzDWsJuGXeBXexNHjc     18225\nITfrGJNwVsHBGJMAKoct     12706\npHqgLcdBQPSLcrTpLkdr     12430\nhAmNSZmQkKQKAjZEGlgb     10758\n                         ...  \nUrZcnCerRbiVophgfqbk         1\nMlpoGnAFMLmBJhlwvyRU         1\nkGgpyeEtacYWhzbuuWMR         1\nBfcDPnLXSzldnCfaoIEI         1\nfcXWTQaKfxbkBkBnzLhK         1\nName: count, Length: 1192, dtype: int64"
     },
     "execution_count": 30,
     "metadata": {},
     "output_type": "execute_result"
    }
   ],
   "source": [
    "df.utm_keyword.value_counts()"
   ],
   "metadata": {
    "collapsed": false,
    "ExecuteTime": {
     "end_time": "2023-10-17T15:30:19.452745Z",
     "start_time": "2023-10-17T15:30:19.448522Z"
    }
   },
   "id": "77318579e83247e"
  },
  {
   "cell_type": "code",
   "execution_count": 31,
   "outputs": [],
   "source": [
    "#Преобладающее количество для одного значения, поэтому заполним пропуски модой\n",
    "\n",
    "df['utm_keyword'].fillna(df['utm_keyword'].mode()[0], inplace=True)"
   ],
   "metadata": {
    "collapsed": false,
    "ExecuteTime": {
     "end_time": "2023-10-17T15:30:19.544370Z",
     "start_time": "2023-10-17T15:30:19.511955Z"
    }
   },
   "id": "b2d12228bcf18943"
  },
  {
   "cell_type": "code",
   "execution_count": 32,
   "outputs": [
    {
     "data": {
      "text/plain": "device_os\nAndroid          434929\niOS              186484\nWindows           83321\nMacintosh         24156\nLinux              4706\n(not set)           309\nChrome OS            65\nBlackBerry           24\nTizen                 7\nFirefox OS            3\nNokia                 2\nSamsung               2\nWindows Phone         2\nName: count, dtype: int64"
     },
     "execution_count": 32,
     "metadata": {},
     "output_type": "execute_result"
    }
   ],
   "source": [
    "df.device_os.value_counts()"
   ],
   "metadata": {
    "collapsed": false,
    "ExecuteTime": {
     "end_time": "2023-10-17T15:30:19.579817Z",
     "start_time": "2023-10-17T15:30:19.573330Z"
    }
   },
   "id": "1c0b433ccc465b0c"
  },
  {
   "cell_type": "code",
   "execution_count": 33,
   "outputs": [],
   "source": [
    "columns_to_drop = ['device_model', 'device_os']  \n",
    "# Список колонок для удаления\n",
    "df = df.drop(columns=columns_to_drop)\n",
    "#Во всех слишком много пропусков, оставшиеся будем смотреть по отдельности"
   ],
   "metadata": {
    "collapsed": false,
    "ExecuteTime": {
     "end_time": "2023-10-17T15:30:19.814722Z",
     "start_time": "2023-10-17T15:30:19.811987Z"
    }
   },
   "id": "5908defb8dbc7bc6"
  },
  {
   "cell_type": "code",
   "execution_count": 34,
   "id": "c1d49405",
   "metadata": {
    "ExecuteTime": {
     "end_time": "2023-10-17T15:30:20.300079Z",
     "start_time": "2023-10-17T15:30:19.847758Z"
    }
   },
   "outputs": [
    {
     "data": {
      "text/plain": "                                  session_id              client_id  \\\n0  9055434745589932991.1637753792.1637753792  2108382700.1637753791   \n1   905544597018549464.1636867290.1636867290   210838531.1636867288   \n2  9055446045651783499.1640648526.1640648526  2108385331.1640648523   \n3  9055447046360770272.1622255328.1622255328  2108385564.1622255328   \n4  9055447046360770272.1622255345.1622255345  2108385564.1622255328   \n\n  visit_time  visit_number            utm_source utm_medium  \\\n0   14:36:32             1  ZpYIoDJMcFzVoPFsHGJL     banner   \n1   08:21:30             1  MvfHsxITijuriZxsqZqt        cpm   \n2   02:42:06             1  ZpYIoDJMcFzVoPFsHGJL     banner   \n3   05:00:00             1  kjsLglQLzykiRbcDiGcD        cpc   \n4   05:00:00             2  kjsLglQLzykiRbcDiGcD        cpc   \n\n           utm_campaign         utm_adcontent           utm_keyword  \\\n0  LEoPHuyFvzoNfnzGgfcd  vCIpmpaGBnIQhyYNkXqp  puhZPIYqKXeFPaUviSjo   \n1  FTjNLDyTrXaWYgZymFkV  xhoenQgDQsgfEPYNPwKO  IGUCNvHlhfHpROGclCit   \n2  LEoPHuyFvzoNfnzGgfcd  vCIpmpaGBnIQhyYNkXqp  puhZPIYqKXeFPaUviSjo   \n3                   NaN  NOBKLgtuvqYWkXQHeYWM  puhZPIYqKXeFPaUviSjo   \n4                   NaN                   NaN  puhZPIYqKXeFPaUviSjo   \n\n  device_category device_brand device_screen_resolution    device_browser  \\\n0          mobile       Huawei                  360x720            Chrome   \n1          mobile      Samsung                  385x854  Samsung Internet   \n2          mobile       Huawei                  360x720            Chrome   \n3          mobile       Xiaomi                  393x786            Chrome   \n4          mobile       Xiaomi                  393x786            Chrome   \n\n  geo_country     geo_city  target  Year  Month  Day  \n0      Russia     Zlatoust       0  2021     11   24  \n1      Russia       Moscow       0  2021     11   14  \n2      Russia  Krasnoyarsk       0  2021     12   28  \n3      Russia       Moscow       0  2021      5   29  \n4      Russia       Moscow       0  2021      5   29  ",
      "text/html": "<div>\n<style scoped>\n    .dataframe tbody tr th:only-of-type {\n        vertical-align: middle;\n    }\n\n    .dataframe tbody tr th {\n        vertical-align: top;\n    }\n\n    .dataframe thead th {\n        text-align: right;\n    }\n</style>\n<table border=\"1\" class=\"dataframe\">\n  <thead>\n    <tr style=\"text-align: right;\">\n      <th></th>\n      <th>session_id</th>\n      <th>client_id</th>\n      <th>visit_time</th>\n      <th>visit_number</th>\n      <th>utm_source</th>\n      <th>utm_medium</th>\n      <th>utm_campaign</th>\n      <th>utm_adcontent</th>\n      <th>utm_keyword</th>\n      <th>device_category</th>\n      <th>device_brand</th>\n      <th>device_screen_resolution</th>\n      <th>device_browser</th>\n      <th>geo_country</th>\n      <th>geo_city</th>\n      <th>target</th>\n      <th>Year</th>\n      <th>Month</th>\n      <th>Day</th>\n    </tr>\n  </thead>\n  <tbody>\n    <tr>\n      <th>0</th>\n      <td>9055434745589932991.1637753792.1637753792</td>\n      <td>2108382700.1637753791</td>\n      <td>14:36:32</td>\n      <td>1</td>\n      <td>ZpYIoDJMcFzVoPFsHGJL</td>\n      <td>banner</td>\n      <td>LEoPHuyFvzoNfnzGgfcd</td>\n      <td>vCIpmpaGBnIQhyYNkXqp</td>\n      <td>puhZPIYqKXeFPaUviSjo</td>\n      <td>mobile</td>\n      <td>Huawei</td>\n      <td>360x720</td>\n      <td>Chrome</td>\n      <td>Russia</td>\n      <td>Zlatoust</td>\n      <td>0</td>\n      <td>2021</td>\n      <td>11</td>\n      <td>24</td>\n    </tr>\n    <tr>\n      <th>1</th>\n      <td>905544597018549464.1636867290.1636867290</td>\n      <td>210838531.1636867288</td>\n      <td>08:21:30</td>\n      <td>1</td>\n      <td>MvfHsxITijuriZxsqZqt</td>\n      <td>cpm</td>\n      <td>FTjNLDyTrXaWYgZymFkV</td>\n      <td>xhoenQgDQsgfEPYNPwKO</td>\n      <td>IGUCNvHlhfHpROGclCit</td>\n      <td>mobile</td>\n      <td>Samsung</td>\n      <td>385x854</td>\n      <td>Samsung Internet</td>\n      <td>Russia</td>\n      <td>Moscow</td>\n      <td>0</td>\n      <td>2021</td>\n      <td>11</td>\n      <td>14</td>\n    </tr>\n    <tr>\n      <th>2</th>\n      <td>9055446045651783499.1640648526.1640648526</td>\n      <td>2108385331.1640648523</td>\n      <td>02:42:06</td>\n      <td>1</td>\n      <td>ZpYIoDJMcFzVoPFsHGJL</td>\n      <td>banner</td>\n      <td>LEoPHuyFvzoNfnzGgfcd</td>\n      <td>vCIpmpaGBnIQhyYNkXqp</td>\n      <td>puhZPIYqKXeFPaUviSjo</td>\n      <td>mobile</td>\n      <td>Huawei</td>\n      <td>360x720</td>\n      <td>Chrome</td>\n      <td>Russia</td>\n      <td>Krasnoyarsk</td>\n      <td>0</td>\n      <td>2021</td>\n      <td>12</td>\n      <td>28</td>\n    </tr>\n    <tr>\n      <th>3</th>\n      <td>9055447046360770272.1622255328.1622255328</td>\n      <td>2108385564.1622255328</td>\n      <td>05:00:00</td>\n      <td>1</td>\n      <td>kjsLglQLzykiRbcDiGcD</td>\n      <td>cpc</td>\n      <td>NaN</td>\n      <td>NOBKLgtuvqYWkXQHeYWM</td>\n      <td>puhZPIYqKXeFPaUviSjo</td>\n      <td>mobile</td>\n      <td>Xiaomi</td>\n      <td>393x786</td>\n      <td>Chrome</td>\n      <td>Russia</td>\n      <td>Moscow</td>\n      <td>0</td>\n      <td>2021</td>\n      <td>5</td>\n      <td>29</td>\n    </tr>\n    <tr>\n      <th>4</th>\n      <td>9055447046360770272.1622255345.1622255345</td>\n      <td>2108385564.1622255328</td>\n      <td>05:00:00</td>\n      <td>2</td>\n      <td>kjsLglQLzykiRbcDiGcD</td>\n      <td>cpc</td>\n      <td>NaN</td>\n      <td>NaN</td>\n      <td>puhZPIYqKXeFPaUviSjo</td>\n      <td>mobile</td>\n      <td>Xiaomi</td>\n      <td>393x786</td>\n      <td>Chrome</td>\n      <td>Russia</td>\n      <td>Moscow</td>\n      <td>0</td>\n      <td>2021</td>\n      <td>5</td>\n      <td>29</td>\n    </tr>\n  </tbody>\n</table>\n</div>"
     },
     "execution_count": 34,
     "metadata": {},
     "output_type": "execute_result"
    }
   ],
   "source": [
    "#Преобразуем колонку с датой и выделим новые признаки\n",
    "df['visit_date'] = pd.to_datetime(df['visit_date'])\n",
    "df['Year'] = df['visit_date'].dt.year\n",
    "df['Month'] = df['visit_date'].dt.month\n",
    "df['Day'] = df['visit_date'].dt.day\n",
    "df = df.drop('visit_date', axis=1)\n",
    "df.head()"
   ]
  },
  {
   "cell_type": "code",
   "execution_count": 35,
   "id": "dfda7877",
   "metadata": {
    "ExecuteTime": {
     "end_time": "2023-10-17T15:30:20.905163Z",
     "start_time": "2023-10-17T15:30:20.371524Z"
    }
   },
   "outputs": [
    {
     "data": {
      "text/plain": "session_id                       0\nclient_id                        0\nvisit_time                       0\nvisit_number                     0\nutm_source                      81\nutm_medium                       0\nutm_campaign                202378\nutm_adcontent               312744\nutm_keyword                      0\ndevice_category                  0\ndevice_brand                358403\ndevice_screen_resolution         0\ndevice_browser                   0\ngeo_country                      0\ngeo_city                         0\ntarget                           0\nYear                             0\nMonth                            0\nDay                              0\ndtype: int64"
     },
     "execution_count": 35,
     "metadata": {},
     "output_type": "execute_result"
    }
   ],
   "source": [
    "df.isna().sum()"
   ]
  },
  {
   "cell_type": "code",
   "execution_count": 36,
   "id": "86d1a1ec",
   "metadata": {
    "ExecuteTime": {
     "end_time": "2023-10-17T15:30:21.050279Z",
     "start_time": "2023-10-17T15:30:20.904017Z"
    }
   },
   "outputs": [],
   "source": [
    "columns_drop2 = ['session_id', 'client_id', 'visit_number']\n",
    "df = df.drop(columns_drop2, axis=1)"
   ]
  },
  {
   "cell_type": "code",
   "execution_count": 37,
   "id": "44aa96b6",
   "metadata": {
    "ExecuteTime": {
     "end_time": "2023-10-17T15:30:21.092614Z",
     "start_time": "2023-10-17T15:30:21.089568Z"
    }
   },
   "outputs": [
    {
     "data": {
      "text/plain": "utm_source\nZpYIoDJMcFzVoPFsHGJL    568527\nfDLlAcSmythWSCVMvqvL    287421\nkjsLglQLzykiRbcDiGcD    251270\nMvfHsxITijuriZxsqZqt    178039\nBHcvLfOaCWvWTykYqHVe    114806\n                         ...  \nDWvtKQncdpXXfLBjBmGj         1\nZsHOHNXkbhgIDlKNiFMf         1\nhYVrCkhCPSqKBhZYhWVq         1\nOboZzsWwJIeGPLeiLGMq         1\nsbJRYgVfvcnqKJNDDYIr         1\nName: count, Length: 280, dtype: int64"
     },
     "execution_count": 37,
     "metadata": {},
     "output_type": "execute_result"
    }
   ],
   "source": [
    "df['utm_source'].value_counts()\n",
    "#Канал привлечения тоже возьмем самый популярный, да здесь не такой большой отрыв в значении от второго места, но\n",
    "# какой-то объем мы угадаем, а остальное испортит показатели не для одного источника, а распределится по всем"
   ]
  },
  {
   "cell_type": "code",
   "execution_count": 38,
   "id": "4de779d3",
   "metadata": {
    "ExecuteTime": {
     "end_time": "2023-10-17T15:30:21.182814Z",
     "start_time": "2023-10-17T15:30:21.091860Z"
    }
   },
   "outputs": [],
   "source": [
    "df['utm_source'].fillna(df['utm_source'].mode()[0], inplace=True)"
   ]
  },
  {
   "cell_type": "code",
   "execution_count": 39,
   "outputs": [],
   "source": [
    "#Создадим новый признак на основе источника из социальных сетей\n",
    "social_media_sources = ('QxAxdyPLuQMEcrdZWdWb', 'MvfHsxITijuriZxsqZqt', 'ISrKoXQCxqqYvAZICvjs', 'IZEXUFLARCUMynmHNBGo', 'PlbkrSYoHuZBWfYjYnfw', 'gVRrcxiDQubJiljoTbGm')\n",
    "\n",
    "# Создание нового столбца 'utm_source_is_social' и заполнение его 1, если значение в 'utm_source' есть в списке 'social_media_sources', и 0, если нет\n",
    "df['utm_source_is_social'] = df['utm_source'].isin(social_media_sources).astype(int)"
   ],
   "metadata": {
    "collapsed": false,
    "ExecuteTime": {
     "end_time": "2023-10-17T15:30:21.217477Z",
     "start_time": "2023-10-17T15:30:21.209766Z"
    }
   },
   "id": "4f546566731e3de0"
  },
  {
   "cell_type": "code",
   "execution_count": 40,
   "outputs": [
    {
     "data": {
      "text/plain": "0          0\n1          1\n2          0\n3          0\n4          0\n          ..\n1781969    0\n1781970    0\n1781971    0\n1781972    0\n1781973    0\nName: utm_source_is_social, Length: 1781974, dtype: int64"
     },
     "execution_count": 40,
     "metadata": {},
     "output_type": "execute_result"
    }
   ],
   "source": [
    "df.utm_source_is_social"
   ],
   "metadata": {
    "collapsed": false,
    "ExecuteTime": {
     "end_time": "2023-10-17T15:30:21.217857Z",
     "start_time": "2023-10-17T15:30:21.214861Z"
    }
   },
   "id": "920f2bf28f4cfcb"
  },
  {
   "cell_type": "code",
   "execution_count": 41,
   "id": "a785a539",
   "metadata": {
    "ExecuteTime": {
     "end_time": "2023-10-17T15:30:21.259076Z",
     "start_time": "2023-10-17T15:30:21.256776Z"
    }
   },
   "outputs": [
    {
     "data": {
      "text/plain": "utm_campaign\nLTuZkdKfxRGVceoWkVyg    441701\nLEoPHuyFvzoNfnzGgfcd    330612\nFTjNLDyTrXaWYgZymFkV    237353\ngecBYcKZCPMcVYdSSzKP    137788\nXHNUiSKKGTEpSAlaVMFQ     24132\n                         ...  \nzXjuoqEaPElBnwpSHMpx         1\ncqgnjDbqrtCipVvzhxqa         1\nAdtHYglxfCpTpwZeTAuW         1\nqPDTdivQVeflLjTYIJnG         1\ncXxuwXPoQCvAXPHpFcZl         1\nName: count, Length: 406, dtype: int64"
     },
     "execution_count": 41,
     "metadata": {},
     "output_type": "execute_result"
    }
   ],
   "source": [
    "df['utm_campaign'].value_counts()\n",
    "#аналогичный принцип"
   ]
  },
  {
   "cell_type": "code",
   "execution_count": 42,
   "id": "6c6e8fa7",
   "metadata": {
    "ExecuteTime": {
     "end_time": "2023-10-17T15:30:21.347839Z",
     "start_time": "2023-10-17T15:30:21.328812Z"
    }
   },
   "outputs": [],
   "source": [
    "df['utm_campaign'].fillna(df['utm_campaign'].mode()[0], inplace=True)"
   ]
  },
  {
   "cell_type": "code",
   "execution_count": 43,
   "id": "d8382b00",
   "metadata": {
    "ExecuteTime": {
     "end_time": "2023-10-17T15:30:21.389349Z",
     "start_time": "2023-10-17T15:30:21.386199Z"
    }
   },
   "outputs": [
    {
     "data": {
      "text/plain": "utm_adcontent\nJNHcPlZPxEMWDnRiyoBf    968986\nvCIpmpaGBnIQhyYNkXqp    183341\nxhoenQgDQsgfEPYNPwKO    105628\nPkybGvWbaqORmxjNunqZ     59997\nLLfCasrxQzJIyuldcuWy     18208\n                         ...  \nfBRoTJlPSQvdkRoAJkVN         1\ngQEnaeQmOHisHSTEyzhp         1\nPlanrlymnpCeYvUrUTVJ         1\nsRDBtYhZktEwHawjPKSb         1\noJivRDNIrrOckRBIKOtG         1\nName: count, Length: 280, dtype: int64"
     },
     "execution_count": 43,
     "metadata": {},
     "output_type": "execute_result"
    }
   ],
   "source": [
    "df['utm_adcontent'].value_counts()\n",
    "#Не объясняется что за столбец, но с легкостью можно заполнить модой, здесь очень сильный перевес"
   ]
  },
  {
   "cell_type": "code",
   "execution_count": 44,
   "id": "c1167012",
   "metadata": {
    "ExecuteTime": {
     "end_time": "2023-10-17T15:30:21.477686Z",
     "start_time": "2023-10-17T15:30:21.454929Z"
    }
   },
   "outputs": [],
   "source": [
    "df['utm_adcontent'].fillna(df['utm_adcontent'].mode()[0], inplace=True)"
   ]
  },
  {
   "cell_type": "code",
   "execution_count": 45,
   "id": "5c5a9f28",
   "metadata": {
    "ExecuteTime": {
     "end_time": "2023-10-17T15:30:21.519447Z",
     "start_time": "2023-10-17T15:30:21.514696Z"
    }
   },
   "outputs": [
    {
     "data": {
      "text/plain": "device_brand\nApple           517859\nSamsung         321626\nXiaomi          275796\nHuawei          178330\nRealme           18347\n                 ...  \nCube                 1\nStar                 1\nMobiistar            1\nDragon Touch         1\nMaxvi                1\nName: count, Length: 200, dtype: int64"
     },
     "execution_count": 45,
     "metadata": {},
     "output_type": "execute_result"
    }
   ],
   "source": [
    "df['device_brand'].value_counts()\n",
    "#Выбрав любое существующее значение рискуем получить перевес в его пользу при обучении, поэтому попробуем пока ввести новое"
   ]
  },
  {
   "cell_type": "code",
   "execution_count": 46,
   "id": "e19ea52f",
   "metadata": {
    "ExecuteTime": {
     "end_time": "2023-10-17T15:30:21.572206Z",
     "start_time": "2023-10-17T15:30:21.549522Z"
    }
   },
   "outputs": [],
   "source": [
    "df['device_brand'].fillna('other', inplace=True)"
   ]
  },
  {
   "cell_type": "code",
   "execution_count": 47,
   "id": "4bea586f",
   "metadata": {
    "ExecuteTime": {
     "end_time": "2023-10-17T15:30:21.987192Z",
     "start_time": "2023-10-17T15:30:21.967602Z"
    }
   },
   "outputs": [
    {
     "data": {
      "text/plain": "visit_time                  0\nutm_source                  0\nutm_medium                  0\nutm_campaign                0\nutm_adcontent               0\nutm_keyword                 0\ndevice_category             0\ndevice_brand                0\ndevice_screen_resolution    0\ndevice_browser              0\ngeo_country                 0\ngeo_city                    0\ntarget                      0\nYear                        0\nMonth                       0\nDay                         0\nutm_source_is_social        0\ndtype: int64"
     },
     "execution_count": 47,
     "metadata": {},
     "output_type": "execute_result"
    }
   ],
   "source": [
    "df.isna().sum()"
   ]
  },
  {
   "cell_type": "code",
   "execution_count": 48,
   "id": "21d0c8f5",
   "metadata": {
    "ExecuteTime": {
     "end_time": "2023-10-17T15:30:22.237275Z",
     "start_time": "2023-10-17T15:30:22.038869Z"
    }
   },
   "outputs": [],
   "source": [
    "#Выделим новый признак \"Час\" из времени визита \n",
    "df['visit_time'] = pd.to_datetime(df['visit_time'], format='%H:%M:%S')\n",
    "\n",
    "df['hour'] = df['visit_time'].dt.hour\n",
    "\n"
   ]
  },
  {
   "cell_type": "code",
   "execution_count": 49,
   "outputs": [],
   "source": [
    "#Сделаем то же самое для минуты \n",
    "df['minute'] = df['visit_time'].dt.minute\n",
    "df = df.drop('visit_time', axis=1)"
   ],
   "metadata": {
    "collapsed": false,
    "ExecuteTime": {
     "end_time": "2023-10-17T15:30:22.441915Z",
     "start_time": "2023-10-17T15:30:22.238446Z"
    }
   },
   "id": "5c9fc41690980a99"
  },
  {
   "cell_type": "code",
   "execution_count": 50,
   "id": "d2261547",
   "metadata": {
    "ExecuteTime": {
     "end_time": "2023-10-17T15:30:22.452948Z",
     "start_time": "2023-10-17T15:30:22.449751Z"
    }
   },
   "outputs": [
    {
     "data": {
      "text/plain": "0            360x720\n1            385x854\n2            360x720\n3            393x786\n4            393x786\n             ...    \n1781969    1920x1080\n1781970      390x844\n1781971      375x667\n1781972      393x851\n1781973     1366x768\nName: device_screen_resolution, Length: 1781974, dtype: object"
     },
     "execution_count": 50,
     "metadata": {},
     "output_type": "execute_result"
    }
   ],
   "source": [
    "df.device_screen_resolution"
   ]
  },
  {
   "cell_type": "code",
   "execution_count": 51,
   "id": "897be34b",
   "metadata": {
    "ExecuteTime": {
     "end_time": "2023-10-17T15:30:25.770819Z",
     "start_time": "2023-10-17T15:30:22.492040Z"
    }
   },
   "outputs": [],
   "source": [
    "#Разрешение экрана разделим, чтобы найти выбросы в дальнейшем \n",
    "df['screen_width'] = df['device_screen_resolution'].str.split('x').str[0].astype(int)\n",
    "df['screen_height'] = df['device_screen_resolution'].str.split('x').str[1].astype(int)"
   ]
  },
  {
   "cell_type": "code",
   "execution_count": 52,
   "id": "662ef332",
   "metadata": {
    "ExecuteTime": {
     "end_time": "2023-10-17T15:30:25.824966Z",
     "start_time": "2023-10-17T15:30:25.821565Z"
    }
   },
   "outputs": [
    {
     "name": "stdout",
     "output_type": "stream",
     "text": [
      "<class 'pandas.core.frame.DataFrame'>\n",
      "RangeIndex: 1781974 entries, 0 to 1781973\n",
      "Data columns (total 20 columns):\n",
      " #   Column                    Dtype \n",
      "---  ------                    ----- \n",
      " 0   utm_source                object\n",
      " 1   utm_medium                object\n",
      " 2   utm_campaign              object\n",
      " 3   utm_adcontent             object\n",
      " 4   utm_keyword               object\n",
      " 5   device_category           object\n",
      " 6   device_brand              object\n",
      " 7   device_screen_resolution  object\n",
      " 8   device_browser            object\n",
      " 9   geo_country               object\n",
      " 10  geo_city                  object\n",
      " 11  target                    int64 \n",
      " 12  Year                      int32 \n",
      " 13  Month                     int32 \n",
      " 14  Day                       int32 \n",
      " 15  utm_source_is_social      int64 \n",
      " 16  hour                      int32 \n",
      " 17  minute                    int32 \n",
      " 18  screen_width              int64 \n",
      " 19  screen_height             int64 \n",
      "dtypes: int32(5), int64(4), object(11)\n",
      "memory usage: 237.9+ MB\n"
     ]
    }
   ],
   "source": [
    "df.info()"
   ]
  },
  {
   "cell_type": "code",
   "execution_count": 53,
   "id": "9d5f3cb9",
   "metadata": {
    "ExecuteTime": {
     "end_time": "2023-10-17T15:30:25.838847Z",
     "start_time": "2023-10-17T15:30:25.825344Z"
    }
   },
   "outputs": [],
   "source": [
    "#Приведем типы данных к одному\n",
    "df['Year'] = df['Year'].astype('int64')\n",
    "df['Month'] = df['Month'].astype('int64')\n",
    "df['Day'] = df['Day'].astype('int64')\n",
    "df['hour'] = df['hour'].astype('int64')\n",
    "df['minute'] = df['minute'].astype('int64')"
   ]
  },
  {
   "cell_type": "code",
   "execution_count": 54,
   "outputs": [
    {
     "name": "stdout",
     "output_type": "stream",
     "text": [
      "                   utm_source utm_medium          utm_campaign  \\\n",
      "801      MvfHsxITijuriZxsqZqt        cpm  FTjNLDyTrXaWYgZymFkV   \n",
      "6857     ZpYIoDJMcFzVoPFsHGJL     banner  LEoPHuyFvzoNfnzGgfcd   \n",
      "15686    RmEBuqrriAfAVsLQQmhk        cpc  VBmazutCflYumtDHrQYe   \n",
      "36408    hTjLvqNxGggkGnxSCaTm    stories  QEejXfOCtOMFLZqIPApp   \n",
      "36884    bByPQxmDaMXgpHeypKSM   referral  LTuZkdKfxRGVceoWkVyg   \n",
      "...                       ...        ...                   ...   \n",
      "1762885  kjsLglQLzykiRbcDiGcD        cpc  DnEUulZAecfGPvdtZBYS   \n",
      "1764724  kjsLglQLzykiRbcDiGcD        cpc  LwJZxKuWmvOhPsaCeRjG   \n",
      "1770688  ZpYIoDJMcFzVoPFsHGJL     banner  LEoPHuyFvzoNfnzGgfcd   \n",
      "1776212  MvfHsxITijuriZxsqZqt        cpm  FTjNLDyTrXaWYgZymFkV   \n",
      "1776508  bByPQxmDaMXgpHeypKSM   referral  LTuZkdKfxRGVceoWkVyg   \n",
      "\n",
      "                utm_adcontent           utm_keyword device_category  \\\n",
      "801      PkybGvWbaqORmxjNunqZ  puhZPIYqKXeFPaUviSjo          mobile   \n",
      "6857     vCIpmpaGBnIQhyYNkXqp  puhZPIYqKXeFPaUviSjo          mobile   \n",
      "15686    JNHcPlZPxEMWDnRiyoBf  puhZPIYqKXeFPaUviSjo          mobile   \n",
      "36408    JNHcPlZPxEMWDnRiyoBf  puhZPIYqKXeFPaUviSjo          mobile   \n",
      "36884    JNHcPlZPxEMWDnRiyoBf  puhZPIYqKXeFPaUviSjo          mobile   \n",
      "...                       ...                   ...             ...   \n",
      "1762885  JNHcPlZPxEMWDnRiyoBf  puhZPIYqKXeFPaUviSjo          mobile   \n",
      "1764724  JNHcPlZPxEMWDnRiyoBf  puhZPIYqKXeFPaUviSjo          mobile   \n",
      "1770688  JNHcPlZPxEMWDnRiyoBf  puhZPIYqKXeFPaUviSjo          mobile   \n",
      "1776212  xhoenQgDQsgfEPYNPwKO  MBHgRPNeTcONuVFFXgmz          mobile   \n",
      "1776508  JNHcPlZPxEMWDnRiyoBf  puhZPIYqKXeFPaUviSjo          mobile   \n",
      "\n",
      "        device_brand device_screen_resolution    device_browser geo_country  \\\n",
      "801           Xiaomi                  830x393            Chrome      Brazil   \n",
      "6857            Sony                  412x823            Chrome      Brazil   \n",
      "15686        Samsung                  412x892            Chrome      Brazil   \n",
      "36408        Umidigi                  360x760   Android Webview      Russia   \n",
      "36884        Samsung                  360x740  Samsung Internet      Brazil   \n",
      "...              ...                      ...               ...         ...   \n",
      "1762885           BQ                  360x720            Chrome      Russia   \n",
      "1764724        Apple                  375x812            Safari      Russia   \n",
      "1770688       Huawei                  360x780            Chrome  Bangladesh   \n",
      "1776212      Samsung                  412x732  Samsung Internet      Brazil   \n",
      "1776508      Samsung                  412x915            Chrome      Russia   \n",
      "\n",
      "        geo_city  target  Year  Month  Day  utm_source_is_social  hour  \\\n",
      "801        53425       0  2021      9   17                     1     9   \n",
      "6857       75709       0  2021     12   28                     0    23   \n",
      "15686      53425       0  2021      9   27                     0     0   \n",
      "36408      83709       0  2021      6   28                     0    23   \n",
      "36884      92323       0  2021     11    4                     0     5   \n",
      "...          ...     ...   ...    ...  ...                   ...   ...   \n",
      "1762885    53425       0  2021      7   19                     0     0   \n",
      "1764724    83709       0  2021      7   18                     0    20   \n",
      "1770688    59139       0  2021      6   13                     0    17   \n",
      "1776212    24130       0  2021     11   23                     1    11   \n",
      "1776508    53425       0  2021      7   18                     0    15   \n",
      "\n",
      "         minute  screen_width  screen_height  \n",
      "801           0           830            393  \n",
      "6857         51           412            823  \n",
      "15686         0           412            892  \n",
      "36408         0           360            760  \n",
      "36884        19           360            740  \n",
      "...         ...           ...            ...  \n",
      "1762885       0           360            720  \n",
      "1764724       0           375            812  \n",
      "1770688       0           360            780  \n",
      "1776212      21           412            732  \n",
      "1776508       0           412            915  \n",
      "\n",
      "[286 rows x 20 columns]\n"
     ]
    }
   ],
   "source": [
    "numeric_rows = df[df['geo_city'].str.match(r'^-?\\d+(\\.\\d+)?$')]\n",
    "\n",
    "# Выведем строки, в которых значения можно интерпретировать как числа для признака Город\n",
    "print(numeric_rows)"
   ],
   "metadata": {
    "collapsed": false,
    "ExecuteTime": {
     "end_time": "2023-10-17T15:30:26.124725Z",
     "start_time": "2023-10-17T15:30:25.848131Z"
    }
   },
   "id": "42bc2177"
  },
  {
   "cell_type": "code",
   "execution_count": 55,
   "id": "c2b87ecf",
   "metadata": {
    "ExecuteTime": {
     "end_time": "2023-10-17T15:30:26.586575Z",
     "start_time": "2023-10-17T15:30:26.154313Z"
    }
   },
   "outputs": [
    {
     "data": {
      "text/plain": "(1781688, 20)"
     },
     "execution_count": 55,
     "metadata": {},
     "output_type": "execute_result"
    }
   ],
   "source": [
    "df = df[~df['geo_city'].str.match(r'^-?\\d+(\\.\\d+)?$')]\n",
    "df.shape"
   ]
  },
  {
   "cell_type": "code",
   "execution_count": 56,
   "id": "e5c44970",
   "metadata": {
    "ExecuteTime": {
     "end_time": "2023-10-17T15:30:32.837329Z",
     "start_time": "2023-10-17T15:30:26.586452Z"
    }
   },
   "outputs": [
    {
     "name": "stdout",
     "output_type": "stream",
     "text": [
      "Numeric values in 'utm_source':\n",
      "Empty DataFrame\n",
      "Columns: [utm_source, utm_medium, utm_campaign, utm_adcontent, utm_keyword, device_category, device_brand, device_screen_resolution, device_browser, geo_country, geo_city, target, Year, Month, Day, utm_source_is_social, hour, minute, screen_width, screen_height]\n",
      "Index: []\n",
      "Numeric values in 'utm_medium':\n",
      "Empty DataFrame\n",
      "Columns: [utm_source, utm_medium, utm_campaign, utm_adcontent, utm_keyword, device_category, device_brand, device_screen_resolution, device_browser, geo_country, geo_city, target, Year, Month, Day, utm_source_is_social, hour, minute, screen_width, screen_height]\n",
      "Index: []\n",
      "Numeric values in 'utm_campaign':\n",
      "Empty DataFrame\n",
      "Columns: [utm_source, utm_medium, utm_campaign, utm_adcontent, utm_keyword, device_category, device_brand, device_screen_resolution, device_browser, geo_country, geo_city, target, Year, Month, Day, utm_source_is_social, hour, minute, screen_width, screen_height]\n",
      "Index: []\n",
      "Numeric values in 'utm_adcontent':\n",
      "Empty DataFrame\n",
      "Columns: [utm_source, utm_medium, utm_campaign, utm_adcontent, utm_keyword, device_category, device_brand, device_screen_resolution, device_browser, geo_country, geo_city, target, Year, Month, Day, utm_source_is_social, hour, minute, screen_width, screen_height]\n",
      "Index: []\n",
      "Numeric values in 'utm_keyword':\n",
      "Empty DataFrame\n",
      "Columns: [utm_source, utm_medium, utm_campaign, utm_adcontent, utm_keyword, device_category, device_brand, device_screen_resolution, device_browser, geo_country, geo_city, target, Year, Month, Day, utm_source_is_social, hour, minute, screen_width, screen_height]\n",
      "Index: []\n",
      "Numeric values in 'device_category':\n",
      "Empty DataFrame\n",
      "Columns: [utm_source, utm_medium, utm_campaign, utm_adcontent, utm_keyword, device_category, device_brand, device_screen_resolution, device_browser, geo_country, geo_city, target, Year, Month, Day, utm_source_is_social, hour, minute, screen_width, screen_height]\n",
      "Index: []\n",
      "Numeric values in 'device_brand':\n",
      "Empty DataFrame\n",
      "Columns: [utm_source, utm_medium, utm_campaign, utm_adcontent, utm_keyword, device_category, device_brand, device_screen_resolution, device_browser, geo_country, geo_city, target, Year, Month, Day, utm_source_is_social, hour, minute, screen_width, screen_height]\n",
      "Index: []\n",
      "Numeric values in 'device_screen_resolution':\n",
      "Empty DataFrame\n",
      "Columns: [utm_source, utm_medium, utm_campaign, utm_adcontent, utm_keyword, device_category, device_brand, device_screen_resolution, device_browser, geo_country, geo_city, target, Year, Month, Day, utm_source_is_social, hour, minute, screen_width, screen_height]\n",
      "Index: []\n",
      "Numeric values in 'device_browser':\n",
      "Empty DataFrame\n",
      "Columns: [utm_source, utm_medium, utm_campaign, utm_adcontent, utm_keyword, device_category, device_brand, device_screen_resolution, device_browser, geo_country, geo_city, target, Year, Month, Day, utm_source_is_social, hour, minute, screen_width, screen_height]\n",
      "Index: []\n",
      "Numeric values in 'geo_country':\n",
      "Empty DataFrame\n",
      "Columns: [utm_source, utm_medium, utm_campaign, utm_adcontent, utm_keyword, device_category, device_brand, device_screen_resolution, device_browser, geo_country, geo_city, target, Year, Month, Day, utm_source_is_social, hour, minute, screen_width, screen_height]\n",
      "Index: []\n",
      "Numeric values in 'geo_city':\n",
      "Empty DataFrame\n",
      "Columns: [utm_source, utm_medium, utm_campaign, utm_adcontent, utm_keyword, device_category, device_brand, device_screen_resolution, device_browser, geo_country, geo_city, target, Year, Month, Day, utm_source_is_social, hour, minute, screen_width, screen_height]\n",
      "Index: []\n"
     ]
    }
   ],
   "source": [
    "#Проведем проверку аналогичную проверку для признаков, которые не должны содержать числовых значений \n",
    "def is_numeric(s):\n",
    "    return bool(re.match(r'^-?\\d+(\\.\\d+)?$', str(s)))\n",
    "\n",
    "# Перебираем все столбцы типа 'object' и проверяем каждую ячейку\n",
    "for column in df.select_dtypes(include=['object']).columns:\n",
    "    numeric_mask = df[column].apply(is_numeric)\n",
    "    numeric_rows = df[numeric_mask]\n",
    "    print(f\"Numeric values in '{column}':\")\n",
    "    print(numeric_rows)"
   ]
  },
  {
   "cell_type": "code",
   "execution_count": 57,
   "id": "a159a349",
   "metadata": {
    "ExecuteTime": {
     "end_time": "2023-10-17T15:30:32.840544Z",
     "start_time": "2023-10-17T15:30:32.838147Z"
    }
   },
   "outputs": [
    {
     "name": "stdout",
     "output_type": "stream",
     "text": [
      "<class 'pandas.core.frame.DataFrame'>\n",
      "Index: 1781688 entries, 0 to 1781973\n",
      "Data columns (total 20 columns):\n",
      " #   Column                    Dtype \n",
      "---  ------                    ----- \n",
      " 0   utm_source                object\n",
      " 1   utm_medium                object\n",
      " 2   utm_campaign              object\n",
      " 3   utm_adcontent             object\n",
      " 4   utm_keyword               object\n",
      " 5   device_category           object\n",
      " 6   device_brand              object\n",
      " 7   device_screen_resolution  object\n",
      " 8   device_browser            object\n",
      " 9   geo_country               object\n",
      " 10  geo_city                  object\n",
      " 11  target                    int64 \n",
      " 12  Year                      int64 \n",
      " 13  Month                     int64 \n",
      " 14  Day                       int64 \n",
      " 15  utm_source_is_social      int64 \n",
      " 16  hour                      int64 \n",
      " 17  minute                    int64 \n",
      " 18  screen_width              int64 \n",
      " 19  screen_height             int64 \n",
      "dtypes: int64(9), object(11)\n",
      "memory usage: 285.5+ MB\n"
     ]
    }
   ],
   "source": [
    "df.info()"
   ]
  },
  {
   "cell_type": "code",
   "execution_count": 58,
   "id": "376e4b72",
   "metadata": {
    "ExecuteTime": {
     "end_time": "2023-10-17T15:30:32.845688Z",
     "start_time": "2023-10-17T15:30:32.840473Z"
    }
   },
   "outputs": [
    {
     "data": {
      "text/plain": "(1781688, 20)"
     },
     "execution_count": 58,
     "metadata": {},
     "output_type": "execute_result"
    }
   ],
   "source": [
    "df.shape"
   ]
  },
  {
   "cell_type": "code",
   "execution_count": 59,
   "id": "daabcac1",
   "metadata": {
    "ExecuteTime": {
     "end_time": "2023-10-17T15:30:34.194132Z",
     "start_time": "2023-10-17T15:30:32.843404Z"
    }
   },
   "outputs": [
    {
     "data": {
      "text/plain": "<Figure size 640x480 with 1 Axes>",
      "image/png": "[encoded data removed]"
     },
     "metadata": {},
     "output_type": "display_data"
    },
    {
     "data": {
      "text/plain": "<Figure size 640x480 with 1 Axes>",
      "image/png": "[encoded data removed]"
     },
     "metadata": {},
     "output_type": "display_data"
    },
    {
     "data": {
      "text/plain": "<Figure size 640x480 with 1 Axes>",
      "image/png": "[encoded data removed]"
     },
     "metadata": {},
     "output_type": "display_data"
    },
    {
     "data": {
      "text/plain": "<Figure size 640x480 with 1 Axes>",
      "image/png": "[encoded data removed]"
     },
     "metadata": {},
     "output_type": "display_data"
    },
    {
     "data": {
      "text/plain": "<Figure size 640x480 with 1 Axes>",
      "image/png": "[encoded data removed]"
     },
     "metadata": {},
     "output_type": "display_data"
    },
    {
     "data": {
      "text/plain": "<Figure size 640x480 with 1 Axes>",
      "image/png": "[encoded data removed]"
     },
     "metadata": {},
     "output_type": "display_data"
    },
    {
     "data": {
      "text/plain": "<Figure size 640x480 with 1 Axes>",
      "image/png": "[encoded data removed]"
     },
     "metadata": {},
     "output_type": "display_data"
    },
    {
     "data": {
      "text/plain": "<Figure size 640x480 with 1 Axes>",
      "image/png": "[encoded data removed]"
     },
     "metadata": {},
     "output_type": "display_data"
    },
    {
     "data": {
      "text/plain": "<Figure size 640x480 with 1 Axes>",
      "image/png": "[encoded data removed]"
     },
     "metadata": {},
     "output_type": "display_data"
    }
   ],
   "source": [
    "#Посмотрим на выбросы\n",
    "for column in df.select_dtypes(include=['int64', 'float64']):\n",
    "    sns.boxplot(x=df[column])\n",
    "    plt.show()"
   ]
  },
  {
   "cell_type": "code",
   "execution_count": 59,
   "outputs": [],
   "source": [],
   "metadata": {
    "collapsed": false,
    "ExecuteTime": {
     "end_time": "2023-10-17T15:30:34.194350Z",
     "start_time": "2023-10-17T15:30:34.192873Z"
    }
   },
   "id": "6210ae83aa0c1a0a"
  },
  {
   "cell_type": "code",
   "execution_count": 60,
   "id": "333b1bc5",
   "metadata": {
    "ExecuteTime": {
     "end_time": "2023-10-17T15:30:34.484251Z",
     "start_time": "2023-10-17T15:30:34.196218Z"
    }
   },
   "outputs": [],
   "source": [
    "#Удалим выбросы\n",
    "Q1_column1 = df['screen_width'].quantile(0.25)\n",
    "Q3_column1 = df['screen_width'].quantile(0.75)\n",
    "IQR_column1 = Q3_column1 - Q1_column1\n",
    "lower_bound_column1 = Q1_column1 - 1.5 * IQR_column1\n",
    "upper_bound_column1 = Q3_column1 + 1.5 * IQR_column1\n",
    "\n",
    "Q1_column2 = df['screen_height'].quantile(0.25)\n",
    "Q3_column2 = df['screen_height'].quantile(0.75)\n",
    "IQR_column2 = Q3_column2 - Q1_column2\n",
    "lower_bound_column2 = Q1_column2 - 1.5 * IQR_column2\n",
    "upper_bound_column2 = Q3_column2 + 1.5 * IQR_column2\n",
    "\n",
    "outliers = ((df['screen_width'] < lower_bound_column1) | (df['screen_width'] > upper_bound_column1)) & ((df['screen_height'] < lower_bound_column2) | (df['screen_height'] > upper_bound_column2))\n",
    "\n",
    "df = df[~outliers]"
   ]
  },
  {
   "cell_type": "code",
   "execution_count": 61,
   "outputs": [
    {
     "name": "stdout",
     "output_type": "stream",
     "text": [
      "360.0\n",
      "428.0\n",
      "760.0\n",
      "896.0\n"
     ]
    }
   ],
   "source": [
    "#В процессе создания пайплайна выяснилось, что пайплайн при изменении количества строк не трогает y, поэтому всегда выпадает ошибка в соотношении размерности данных. Поэтому я возвращаюсь к выбросам, для создания нового класса, в котором требуется указать процент удаления выбросов. \n",
    "print(Q1_column1)\n",
    "print(Q3_column1)\n",
    "print(Q1_column2)\n",
    "print(Q3_column2)"
   ],
   "metadata": {
    "collapsed": false,
    "ExecuteTime": {
     "end_time": "2023-10-17T15:30:34.487452Z",
     "start_time": "2023-10-17T15:30:34.484942Z"
    }
   },
   "id": "3582495e10c491c0"
  },
  {
   "cell_type": "code",
   "execution_count": 62,
   "outputs": [
    {
     "data": {
      "text/plain": "19.252536878407863"
     },
     "execution_count": 62,
     "metadata": {},
     "output_type": "execute_result"
    }
   ],
   "source": [
    "# Количество выбросов\n",
    "count_outliers = len(df[df['screen_width'] > 428])  \n",
    "\n",
    "# Общее количество данных\n",
    "total_data_points = len(df)\n",
    "\n",
    "# Расчет процента выбросов\n",
    "percentage_outliers = (count_outliers / total_data_points) * 100\n",
    "percentage_outliers\n"
   ],
   "metadata": {
    "collapsed": false,
    "ExecuteTime": {
     "end_time": "2023-10-17T15:30:34.550955Z",
     "start_time": "2023-10-17T15:30:34.488285Z"
    }
   },
   "id": "2def9646518b2e28"
  },
  {
   "cell_type": "code",
   "execution_count": 63,
   "outputs": [
    {
     "data": {
      "text/plain": "19.766802956542005"
     },
     "execution_count": 63,
     "metadata": {},
     "output_type": "execute_result"
    }
   ],
   "source": [
    "# Количество выбросов\n",
    "count_outliers1 = len(df[df['screen_height'] > 896]) \n",
    "\n",
    "# Общее количество данных\n",
    "total_data_points1 = len(df)\n",
    "\n",
    "# Расчет процента выбросов\n",
    "percentage_outliers1 = (count_outliers1 / total_data_points1) * 100\n",
    "percentage_outliers1"
   ],
   "metadata": {
    "collapsed": false,
    "ExecuteTime": {
     "end_time": "2023-10-17T15:30:34.609192Z",
     "start_time": "2023-10-17T15:30:34.542877Z"
    }
   },
   "id": "a48935d70e33afb0"
  },
  {
   "cell_type": "code",
   "execution_count": 64,
   "outputs": [],
   "source": [
    "#Создадим новые признаки\n",
    "df['device_screen_area'] = df['screen_width'] * df['screen_height']\n",
    "df['device_screen_ratio'] = df['screen_width'] / df['screen_height']\n",
    "df.drop('device_screen_resolution', axis=1, inplace=True)"
   ],
   "metadata": {
    "collapsed": false,
    "ExecuteTime": {
     "end_time": "2023-10-17T15:30:34.774433Z",
     "start_time": "2023-10-17T15:30:34.592637Z"
    }
   },
   "id": "7a24e54e3194fd6f"
  },
  {
   "cell_type": "code",
   "execution_count": 65,
   "id": "e42396a3",
   "metadata": {
    "ExecuteTime": {
     "end_time": "2023-10-17T15:30:35.090911Z",
     "start_time": "2023-10-17T15:30:35.057039Z"
    }
   },
   "outputs": [
    {
     "name": "stdout",
     "output_type": "stream",
     "text": [
      "<class 'pandas.core.frame.DataFrame'>\n",
      "Index: 1690759 entries, 0 to 1781973\n",
      "Data columns (total 21 columns):\n",
      " #   Column                Non-Null Count    Dtype  \n",
      "---  ------                --------------    -----  \n",
      " 0   utm_source            1690759 non-null  object \n",
      " 1   utm_medium            1690759 non-null  object \n",
      " 2   utm_campaign          1690759 non-null  object \n",
      " 3   utm_adcontent         1690759 non-null  object \n",
      " 4   utm_keyword           1690759 non-null  object \n",
      " 5   device_category       1690759 non-null  object \n",
      " 6   device_brand          1690759 non-null  object \n",
      " 7   device_browser        1690759 non-null  object \n",
      " 8   geo_country           1690759 non-null  object \n",
      " 9   geo_city              1690759 non-null  object \n",
      " 10  target                1690759 non-null  int64  \n",
      " 11  Year                  1690759 non-null  int64  \n",
      " 12  Month                 1690759 non-null  int64  \n",
      " 13  Day                   1690759 non-null  int64  \n",
      " 14  utm_source_is_social  1690759 non-null  int64  \n",
      " 15  hour                  1690759 non-null  int64  \n",
      " 16  minute                1690759 non-null  int64  \n",
      " 17  screen_width          1690759 non-null  int64  \n",
      " 18  screen_height         1690759 non-null  int64  \n",
      " 19  device_screen_area    1690759 non-null  int64  \n",
      " 20  device_screen_ratio   1690759 non-null  float64\n",
      "dtypes: float64(1), int64(10), object(10)\n",
      "memory usage: 283.8+ MB\n"
     ]
    }
   ],
   "source": [
    "df.info()"
   ]
  },
  {
   "cell_type": "code",
   "execution_count": 66,
   "id": "75f7d892",
   "metadata": {
    "ExecuteTime": {
     "end_time": "2023-10-17T15:30:35.095377Z",
     "start_time": "2023-10-17T15:30:35.089753Z"
    }
   },
   "outputs": [
    {
     "data": {
      "text/plain": "(1690759, 21)"
     },
     "execution_count": 66,
     "metadata": {},
     "output_type": "execute_result"
    }
   ],
   "source": [
    "df.shape"
   ]
  },
  {
   "cell_type": "code",
   "execution_count": 67,
   "id": "2d47d4e9",
   "metadata": {
    "ExecuteTime": {
     "end_time": "2023-10-17T15:30:35.677928Z",
     "start_time": "2023-10-17T15:30:35.124002Z"
    }
   },
   "outputs": [
    {
     "data": {
      "text/plain": "utm_source               274\nutm_medium                53\nutm_campaign             402\nutm_adcontent            275\nutm_keyword             1179\ndevice_category            3\ndevice_brand             194\ndevice_browser            32\ngeo_country              157\ngeo_city                2318\ntarget                     2\nYear                       1\nMonth                      8\nDay                       31\nutm_source_is_social       2\nhour                      24\nminute                    60\nscreen_width             831\nscreen_height            644\ndevice_screen_area      3844\ndevice_screen_ratio     3601\ndtype: int64"
     },
     "execution_count": 67,
     "metadata": {},
     "output_type": "execute_result"
    }
   ],
   "source": [
    "df.nunique()"
   ]
  },
  {
   "cell_type": "code",
   "execution_count": 68,
   "id": "455e78d2",
   "metadata": {
    "ExecuteTime": {
     "end_time": "2023-10-17T15:30:37.171465Z",
     "start_time": "2023-10-17T15:30:35.713810Z"
    }
   },
   "outputs": [],
   "source": [
    "#Приведем к нижнему регистру все варианты \n",
    "df = df.apply(lambda x: x.str.lower() if x.dtype == 'object' else x)"
   ]
  },
  {
   "cell_type": "code",
   "execution_count": 69,
   "id": "e0a89cb8",
   "metadata": {
    "ExecuteTime": {
     "end_time": "2023-10-17T15:30:37.756076Z",
     "start_time": "2023-10-17T15:30:37.204426Z"
    }
   },
   "outputs": [
    {
     "data": {
      "text/plain": "utm_source               274\nutm_medium                52\nutm_campaign             402\nutm_adcontent            275\nutm_keyword             1179\ndevice_category            3\ndevice_brand             194\ndevice_browser            32\ngeo_country              157\ngeo_city                2318\ntarget                     2\nYear                       1\nMonth                      8\nDay                       31\nutm_source_is_social       2\nhour                      24\nminute                    60\nscreen_width             831\nscreen_height            644\ndevice_screen_area      3844\ndevice_screen_ratio     3601\ndtype: int64"
     },
     "execution_count": 69,
     "metadata": {},
     "output_type": "execute_result"
    }
   ],
   "source": [
    "df.nunique()"
   ]
  },
  {
   "cell_type": "code",
   "execution_count": 70,
   "outputs": [
    {
     "name": "stdout",
     "output_type": "stream",
     "text": [
      "Искомое значение \"хомутово\" найдено в столбце.\n"
     ]
    }
   ],
   "source": [
    "searching = 'хомутово'\n",
    "\n",
    "# Проверяем, есть ли искомое значение в столбце\n",
    "if_is = (df['geo_city'] == searching).any()\n",
    "\n",
    "if if_is:\n",
    "    print(f'Искомое значение \"{searching}\" найдено в столбце.')\n",
    "else:\n",
    "    print(f'Искомое значение \"{searching}\" не найдено в столбце.')"
   ],
   "metadata": {
    "collapsed": false,
    "ExecuteTime": {
     "end_time": "2023-10-17T15:30:37.809603Z",
     "start_time": "2023-10-17T15:30:37.806329Z"
    }
   },
   "id": "1b384b25a233153"
  },
  {
   "cell_type": "code",
   "execution_count": 71,
   "id": "425dcb21",
   "metadata": {
    "ExecuteTime": {
     "end_time": "2023-10-17T15:30:55.778251Z",
     "start_time": "2023-10-17T15:30:37.808930Z"
    }
   },
   "outputs": [],
   "source": [
    "# Видел значение на кириллице в столбце, поэтому попробуем перевести его на латиницу\n",
    "def transliterate_text(text):\n",
    "    return translit(text, 'ru', reversed=True)\n",
    "df['geo_city'] = df['geo_city'].apply(lambda x: transliterate_text(x) if isinstance(x, str) else x)\n"
   ]
  },
  {
   "cell_type": "code",
   "execution_count": 72,
   "outputs": [
    {
     "name": "stdout",
     "output_type": "stream",
     "text": [
      "Искомое значение \"хомутово\" не найдено в столбце.\n"
     ]
    }
   ],
   "source": [
    "searching = 'хомутово'\n",
    "if_is = (df['geo_city'] == searching).any()\n",
    "if if_is:\n",
    "    print(f'Искомое значение \"{searching}\" найдено в столбце.')\n",
    "else:\n",
    "    print(f'Искомое значение \"{searching}\" не найдено в столбце.')"
   ],
   "metadata": {
    "collapsed": false,
    "ExecuteTime": {
     "end_time": "2023-10-17T15:30:55.831043Z",
     "start_time": "2023-10-17T15:30:55.827142Z"
    }
   },
   "id": "ee7dbf2c716a7e75"
  },
  {
   "cell_type": "code",
   "execution_count": 73,
   "id": "1058e8b7",
   "metadata": {
    "ExecuteTime": {
     "end_time": "2023-10-17T15:30:55.889205Z",
     "start_time": "2023-10-17T15:30:55.861841Z"
    }
   },
   "outputs": [],
   "source": [
    "list = df.geo_city.unique().tolist()"
   ]
  },
  {
   "cell_type": "code",
   "execution_count": 74,
   "outputs": [
    {
     "data": {
      "text/plain": "['zlatoust',\n 'moscow',\n 'krasnoyarsk',\n 'saint petersburg',\n 'sochi',\n 'yaroslavl',\n 'mytishchi',\n '(not set)',\n 'novorossiysk',\n 'balashikha',\n 'pushkino',\n 'vladivostok',\n 'alexandrov',\n 'astrakhan',\n 'sunny isles beach',\n 'reutov',\n 'kazan',\n 'ulyanovsk',\n 'tula',\n 'yekaterinburg',\n 'rostov-on-don',\n 'samara',\n 'yoshkar-ola',\n 'chelyabinsk',\n 'krasnogorsk',\n 'krasnodar',\n 'lipetsk',\n 'nakhabino',\n 'kyzyl',\n 'ryazan',\n 'tyumen',\n 'omsk',\n 'nizhny novgorod',\n 'mezhdurechensk',\n 'tuymazy',\n 'stupino',\n 'serpukhov',\n 'saratov',\n 'grozny',\n 'orenburg',\n 'surgut',\n 'kyiv',\n 'volgograd',\n 'engels',\n 'fryazino',\n 'naberezhnye chelny',\n 'khabarovsk',\n 'ufa',\n 'novosibirsk',\n 'kirov',\n 'kotelniki',\n 'kaluga',\n 'vyborg',\n 'barnaul',\n 'lecce',\n 'tambov',\n 'minsk',\n 'tver',\n 'yalta',\n 'kostroma',\n 'zheleznodorozhny',\n 'pyatigorsk',\n 'izhevsk',\n 'chita',\n 'cherkessk',\n 'blagoveshchensk',\n 'voronezh',\n 'nalchik',\n 'obninsk',\n 'belgorod',\n 'perm',\n 'severodvinsk',\n 'donetsk',\n 'gatchina',\n 'syktyvkar',\n 'naro-fominsk',\n 'sydney',\n 'protvino',\n 'kamensk-uralsky',\n 'stockholm',\n 'zhukovskiy',\n 'tomsk',\n 'stavropol',\n 'ivanteyevka',\n 'yegoryevsk',\n 'irkutsk',\n 'almaty',\n 'korolyov',\n 'magnitogorsk',\n 'baku',\n 'abakan',\n 'kraskovo',\n 'domodedovo',\n 'safonovo',\n 'shlisselburg',\n 'cherepovets',\n 'arkhangelsk',\n 'vidnoye',\n 'khimki',\n 'vologda',\n 'kotor municipality',\n 'petrozavodsk',\n 'oryol',\n 'odintsovo',\n 'voskresensk',\n 'almetyevsk',\n 'kolomna',\n 'bryansk',\n 'lyubertsy',\n 'veliky novgorod',\n 'varna',\n 'kovrov',\n 'ramenskoye',\n 'berezniki',\n 'simferopol',\n 'novocheboksarsk',\n 'nur-sultan',\n 'tashkent',\n 'maykop',\n 'dushanbe',\n 'dolgoprudny',\n 'nefteyugansk',\n 'tomilino',\n 'kaliningrad',\n 'vladimir',\n 'velikiye luki',\n 'nakhodka',\n 'nizhnevartovsk',\n 'temirtau',\n 'strovolos',\n 'nevinnomyssk',\n 'klin',\n 'polohy',\n 'uchaly',\n 'novy urengoy',\n 'smolensk',\n 'dedovsk',\n 'sergiyev posad',\n 'vsevolozhsk',\n 'dmitrov',\n 'cheboksary',\n 'dubai',\n 'podolsk',\n 'pervouralsk',\n 'anapa',\n 'lytkarino',\n 'prineville',\n 'hamburg',\n 'tosno',\n 'norilsk',\n 'tolyatti',\n 'dubna',\n 'petrovo-dalneye',\n 'ussuriysk',\n 'istra',\n 'murmansk',\n 'ivanovo',\n 'london',\n 'tikhvin',\n 'amsterdam',\n 'neryungri',\n 'sevastopol',\n 'novomoskovsk',\n 'kemerovo',\n 'volokolamsk',\n 'elektrostal',\n 'yablonovsky',\n 'verkhnyaya pyshma',\n \"irpin'\",\n 'essentuki',\n 'kislovodsk',\n 'sandwich',\n 'malakhovka',\n 'orekhovo-zuyevo',\n 'angarsk',\n 'chekhov',\n 'severomorsk',\n 'leninsk-kuznetskiy',\n 'satka',\n 'dzerzhinsk',\n 'lviv',\n 'niepolomice',\n 'ashburn',\n 'homutovo',\n 'penza',\n 'biysk',\n 'novokuznetsk',\n 'bishkek',\n 'lobnya',\n 'sterlitamak',\n 'temryuk',\n 'naryan-mar',\n 'shostka',\n 'kamyshin',\n 'sofia',\n 'asbest',\n 'sertolovo',\n \"oktyabrs'ke\",\n 'staraya kupavna',\n 'volzhskiy',\n 'yuzhno-sakhalinsk',\n 'berlin',\n 'shchyolkovo',\n 'krasnoznamensk',\n 'ulan-ude',\n 'zarechnyy',\n 'kostomuksha',\n 'povarovo',\n 'meleuz',\n 'nazran',\n 'klimovsk',\n 'riga',\n 'stary oskol',\n 'richmond',\n 'vorkuta',\n 'poltavskaya',\n 'lukhovitsy',\n 'dublin',\n 'maloyaroslavets',\n 'beloozyorskiy',\n 'antalya',\n 'namangan',\n 'katowice',\n 'belebey',\n 'elektrougli',\n 'chebarkul',\n 'kursk',\n 'nizhny tagil',\n 'yakutsk',\n 'new york',\n 'aventura',\n 'khotkovo',\n 'kurgan',\n 'elista',\n 'bratsk',\n 'noginsk',\n 'makhachkala',\n 'yerevan',\n 'vladikavkaz',\n 'la plata',\n 'rome',\n 'belovo',\n 'helsinki',\n 'kherson',\n 'brest',\n 'slough',\n 'frolovo',\n 'petropavlovsk-kamchatskiy',\n 'borovichi',\n 'kratovo',\n 'prokopyevsk',\n \"armyans'k\",\n 'kelowna',\n 'seversk',\n 'rybinsk',\n \"khartsyz'k\",\n 'pskov',\n 'pereslavl-zalessky',\n 'hammerfest municipality',\n 'gomel',\n 'taganrog',\n 'novouralsk',\n 'gelendzhik',\n 'aramil',\n 'neftekamsk',\n 'novotroitsk',\n 'novoye devyatkino',\n 'tuapse',\n 'mozhaysk',\n 'zagorjanskas',\n 'kerch',\n 'sarov',\n 'kimry',\n 'kubinka',\n 'munich',\n 'bengaluru',\n \"ust'-kamenogorsk\",\n 'zheleznogorsk',\n 'saransk',\n 'dimitrovgrad',\n 'paris',\n 'ukhta',\n 'slavyansk-na-kubani',\n 'tikhoretsk',\n 'bratislava',\n 'salekhard',\n 'tbilisi',\n 'riyadh',\n 'ostrov',\n 'burgas',\n 'tsivilsk',\n 'shakhty',\n 'pechora',\n 'svetogorsk',\n 'megion',\n 'bataysk',\n 'kirishi',\n 'saint-denis',\n 'novocherkassk',\n 'chernogolovka',\n 'gorki-2',\n 'gus-khrustalny',\n 'aktobe',\n 'lysva',\n 'vaughan',\n 'korsakov',\n 'manavgat',\n 'makiivka',\n 'prague',\n 'sovetsk',\n 'bakhmach',\n 'aprelevka',\n 'semibratovo',\n 'pavlovsky posad',\n 'bor',\n 'magadan',\n 'kstovo',\n 'shatura',\n 'losino-petrovsky',\n 'frankfurt',\n 'yalutorovsk',\n 'paphos',\n 'limassol',\n 'ust-ilimsk',\n 'viciebsk',\n 'pushchino',\n 'polysayevo',\n 'madrid',\n 'dzerzhinsky',\n 'prokhladny',\n 'luhansk',\n 'vienna',\n 'bergen municipality',\n 'tobolsk',\n 'birobidzhan',\n 'anaheim',\n 'espoo',\n 'kopeysk',\n 'singapore',\n 'lipitsy',\n 'horlivka',\n 'volgodonsk',\n 'yeysk',\n 'fort worth',\n 'golitsyno',\n 'miass',\n 'cologne',\n 'yelets',\n 'zvenigorod',\n 'kuta selatan',\n 'volkhov',\n 'krasnoarmeysk',\n 'apatity',\n 'samarkand',\n 'ballerup',\n 'buynaksk',\n 'krasnoturyinsk',\n 'bolshoy kamen',\n 'noyabrsk',\n 'sumy',\n 'tynda',\n 'nizhnekamsk',\n 'usolye-sibirskoye',\n 'ruza',\n 'kingisepp',\n 'guyancourt',\n 'forest city',\n 'komsomolsk-on-amur',\n 'heidelberg',\n 'zhigulevsk',\n 'zelenodolsk',\n 'glazov',\n 'tirana',\n 'achinsk',\n 'zurich',\n 'ann arbor',\n 'izmir',\n 'palm valley',\n 'overland park',\n 'rodniki',\n 'karagandy',\n 'kansas city',\n 'shelekhov',\n 'tampere',\n 'kaspiysk',\n 'haspra',\n 'zhengzhou',\n 'birsk',\n 'nadym',\n 'harjavalta',\n 'wroclaw',\n 'reading',\n 'rakvere',\n 'zhytomyr',\n 'chisinau',\n 'ettlingen',\n 'la teste-de-buch',\n 'ottawa',\n 'kostanay',\n 'gorno-altaysk',\n 'westview',\n 'kolchugino',\n 'funchal',\n 'lulea',\n 'altoona',\n 'kushchyovskaya',\n 'yuzhnyy',\n 'armavir',\n 'ternopil',\n 'bender',\n 'barcelona',\n 'marmaris',\n 'lucca',\n 'solnechnogorsk',\n 'ashkelon',\n 'kalininets',\n 'mozhga',\n 'vyksa',\n 'mumbai',\n 'ras al-khaimah',\n 'andijan',\n 'ljubljana',\n 'berdsk',\n 'uzlovaya',\n 'rostov',\n 'podgorica',\n 'kirovsk',\n \"ul'yanovka\",\n 'soest',\n 'selyatino',\n 'leipzig',\n 'yevpatoriya',\n 'novoaltaysk',\n 'vilnius',\n 'bootle',\n 'jakobsberg',\n 'kamensk-shakhtinsky',\n 'budva',\n 'bordeaux',\n 'chicago',\n 'semey',\n 'ozersk',\n 'istanbul',\n 'elektrogorsk',\n 'arzamas',\n 'snezhinsk',\n 'mexico city',\n 'atyrau',\n 'chusovskoye urban settlement',\n 'warsaw',\n 'mirny',\n 'mykolaiv',\n 'male',\n 'ivano-frankivsk',\n 'vyazniki',\n 'enem',\n 'nyagan',\n 'tekirova',\n 'ruzayevka',\n 'stuttgart',\n 'heilbronn',\n 'khanty-mansiysk',\n 'monino',\n 'mineralnye vody',\n 'seattle',\n 'verkhnyaya salda',\n 'new delhi',\n 'khrustalnyi',\n 'russkiy',\n 'revda',\n 'petah tikva',\n 'lesnoy gorodok',\n 'munster',\n 'nuremberg',\n 'saky',\n 'argun',\n 'new cairo city',\n 'kyshtym',\n \"shakhtars'k\",\n 'visaginas',\n 'jakarta',\n 'salavat',\n 'philadelphia',\n 'calgary',\n 'grodno',\n 'kumertau',\n 'greensboro',\n 'larnaca',\n 'snizhne',\n 'north kuta',\n 'denpasar',\n 'mikhaylovka',\n 'kusnacht',\n 'rivne',\n 'murom',\n 'bakhchysarai',\n 'san jose',\n 'shymkent',\n 'sharm el-sheikh',\n 'kineshma',\n 'aschaffenburg',\n 'kandalaksha',\n 'krasnouralsk',\n 'pornainen',\n 'yuzhnouralsk',\n 'baarn',\n 'pavlodar',\n 'batumi',\n 'shuya',\n 'jelgava',\n 'seoul',\n 'vinnytsia',\n 'yurga',\n 'nicosia',\n 'muhlhausen',\n 'kommunar',\n 'kalamata',\n 'tapolca',\n 'serov',\n 'coffeyville',\n 'north bergen',\n 'feodosiya',\n 'sosnovy bor',\n 'buenos aires',\n 'artyom',\n 'side',\n 'kampala',\n 'naaldwijk',\n 'shadrinsk',\n 'kotlas',\n 'haifa',\n 'rotterdam',\n 'sarajevo',\n 'novotitarovskaya',\n 'oludeniz',\n 'balakovo',\n 'calabasas',\n 'phuket',\n \"debal'tseve\",\n 'bucharest',\n \"velykodolyns'ke\",\n 'barysaw',\n 'sudak',\n 'miami',\n 'mugla',\n 'borisoglebsk',\n 'beirut',\n 'ehingen',\n 'azov',\n 'kirovo-chepetsk',\n 'montreux',\n 'rubtsovsk',\n 'kirzhach',\n 'polygyros',\n 'anadyr',\n 'north plainfield',\n 'khasavyurt',\n 'troedobelikovskiy',\n 'beryozovsky',\n 'derbent',\n 'varadero',\n \"chornomors'ke\",\n 'kolomyya',\n 'alushta',\n 'dubovoe',\n 'vyazma',\n 'dunwoody',\n 'vyshneve',\n 'reykjavik',\n \"voznesens'k\",\n 'polevskoy',\n 'epsom',\n 'pyt-yakh',\n 'semender',\n 'mountain view',\n \"roven'ky\",\n 'konotop',\n 'nikolskoye',\n 'khartoum',\n 'kashira',\n 'kizlyar',\n 'tallinn',\n 'zarinsk',\n 'konakovo',\n 'phnom penh',\n 'valencia',\n 'seville',\n 'rawalpindi',\n 'antony',\n 'goynuk',\n 'kurumoch',\n 'udomlya',\n 'kabul',\n 'kemer',\n 'toronto',\n 'bangkok',\n 'vung tau',\n 'mogilev',\n 'svatove',\n 'bucha',\n 'kropotkin',\n 'milan',\n 'aleksandrovsk-sakhalinskiy',\n 'pavlovo',\n 'odesa',\n 'essen',\n 'otradny',\n 'marijampole',\n 'antratsyt',\n 'aksay',\n 'fort lauderdale',\n 'denver',\n 'delhi',\n 'balakhna',\n 'markham',\n 'cairo',\n 'uralsk',\n 'ulaanbaatar',\n 'monchegorsk',\n 'bar',\n 'tuchkovo',\n 'port louis',\n 'kurchatov',\n 'orsk',\n 'melbourne',\n 'detmold',\n 'beloretsk',\n 'dovzhansk',\n 'helsingborg',\n 'houston',\n 'tel aviv-yafo',\n 'tehran',\n 'kryvyi rih',\n 'split',\n 'rinteln',\n 'vyshny volochyok',\n 'kharkiv',\n 'bangui',\n 'gwangju',\n 'saint-arsene',\n 'karon',\n 'tiraspol',\n 'chania',\n 'islamabad',\n 'saalfelden',\n 'plastunovskaya',\n 'sindelfingen',\n 'krakow',\n 'pau',\n 'forchheim',\n 'los angeles',\n 'nizhnyaya tura',\n 'utrecht',\n 'benidorm',\n 'taldykorgan',\n 'spruce grove',\n 'the hague',\n \"mariupol'\",\n 'cancun',\n 'poronaysk',\n \"be'er sheva\",\n 'sousse',\n 'santo domingo',\n 'zug',\n 'kochi',\n 'slovyansk',\n 'taraz',\n 'mazyr',\n 'oktyabrsky',\n 'ankara',\n 'petropavl',\n 'south lake tahoe',\n 'rishon letsiyon',\n 'palm coast',\n 'kuopio',\n 'alanya',\n 'miami beach',\n \"hresivs'kyi\",\n 'kirklareli',\n 'kuusamo',\n 'shakhovskaya',\n 'dzhankoi',\n 'mai khao',\n 'badr city',\n 'payallar',\n 'oslo municipality',\n 'lodz',\n 'kizilyurt',\n 'chistopol',\n 'doha',\n 'lahore',\n 'kansk',\n 'inta',\n \"berdyans'k\",\n 'tunis',\n 'novoshakhtinsk',\n 'duivendrecht',\n 'teramo',\n 'copenhagen',\n 'geldern',\n 'sunny beach',\n 'paks',\n 'baghdad',\n 'belgrade',\n 'osby',\n 'orland',\n 'santa monica',\n 'rabat',\n 'arsenyev',\n 'lille',\n 'kartaly',\n 'daejeon',\n 'zhodzina',\n 'kurovskoye',\n 'geneva',\n 'mollet del valles',\n 'rossosh',\n 'drama',\n 'amstelveen',\n 'samarskoye',\n 'babruysk',\n 'boston',\n 'almelo',\n 'usinsk',\n 'slavutych',\n 'basel',\n 'adana',\n 'luxembourg',\n 'kanevskaya',\n 'kadiivka',\n 'san antonio',\n 'ware',\n 'turin',\n 'dalnegorsk',\n 'urus-martan',\n 'poltava',\n 'genoa',\n 'zagreb',\n 'walnut creek',\n 'baranovichi',\n 'quincy',\n \"lysychans'k\",\n 'lisbon',\n 'zaporizhzhia',\n 'votkinsk',\n 'kalajoki',\n 'schonefeld',\n 'budapest',\n 'katav-ivanovsk',\n 'washington',\n \"alchevs'k\",\n 'hurghada',\n 'malmo',\n 'turku',\n '6th of october city',\n 'tacoma',\n 'palanga',\n 'tangier',\n 'adeje',\n 'chiyoda city',\n 'sharjah',\n 'lome',\n 'roubaix',\n 'elmshorn',\n 'dnipro',\n 'busan',\n 'secaucus',\n 'dobropillya',\n 'hombrechtikon',\n 'ardooie',\n 'brussels',\n 'union park',\n 'caracas',\n 'olginka',\n 'pagosa springs',\n 'fremont',\n 'weehawken',\n 'polatsk',\n 'yakhroma',\n 'colombo',\n 'pretoria',\n 'rivas-vaciamadrid',\n 'havana',\n 'new braunfels',\n 'gdansk',\n 'kayseri',\n 'ishimbay',\n 'porec',\n 'sorokyne',\n 'raleigh',\n 'veliky ustyug',\n 'bonn',\n 'nessebar',\n 'kyzylorda',\n 'palma',\n 'wildwood',\n 'gudermes',\n 'luanda',\n 'hedehusene',\n 'labytnangi',\n 'osh',\n 'forest',\n 'nice',\n 'saskatoon',\n 'fethiye',\n 'likino-dulyovo',\n 'kranenburg',\n 'conakry',\n 'malaga',\n 'roissy-en-france',\n 'yenakijeve',\n 'clifton',\n 'boblingen',\n 'lodeynoye pole',\n 'verona',\n 'mason',\n 'kamianske',\n 'yasynuvata',\n 'dorokhovskoja',\n 'severodonetsk',\n 'athens',\n 'wermelskirchen',\n 'orlando',\n 'bielsko-biala',\n 'retford',\n 'amadora',\n 'nairobi',\n 'st. louis',\n 'syzran',\n 'eichstatt',\n 'kropyvnytskyi',\n 'belaya kalitva',\n 'tuttlingen',\n \"uman'\",\n 'unalaska',\n 'livingston',\n 'dusseldorf',\n 'spassk-dalny',\n 'baltimore',\n 'zgorzelec',\n 'cheyenne',\n 'sandanski',\n 'ho chi minh city',\n 'nakhon si thammarat',\n 'dijon',\n 'dakar',\n 'san francisco',\n 'sarapul',\n 'raduzhny',\n 'sor-varanger',\n 'marseille',\n 'maladzyechna',\n 'trudovoye',\n 'benghazi',\n 'lugano',\n 'austin',\n 'majalaya',\n 'sosnovoborsk',\n 'poznan',\n 'ayase',\n 'torzhok',\n 'centurion',\n 'sandton',\n 'norrkoping',\n 'marsta',\n \"bilohirs'k\",\n 'ashdod',\n 'kinel',\n 'lida',\n 'dhaka',\n 'tupelo',\n 'oyster bay',\n 'porvoo',\n 'vallauris',\n 'novomikhailovskii',\n 'lisakovsk',\n 'ashgabat',\n 'shanghai',\n 'aberdeen',\n \"emel'yanovo\",\n 'vanadzor',\n 'korkino',\n 'filderstadt',\n 'gaziantep',\n 'mersin',\n 'koh samui',\n 'tivat municipality',\n 'managua',\n 'joensuu',\n 'dolyna',\n 'lutuhyne',\n 'oberstdorf',\n 'hanover',\n 'kiselyovsk',\n 'canakkale',\n \"novomoskovs'k\",\n 'achern',\n 'biberach',\n 'agadir',\n 'alimos',\n 'sacramento',\n 'berezovka',\n 'murcia',\n 'warwick',\n 'abu dhabi',\n 'herceg novi',\n 'florence',\n 'linden',\n 'damascus',\n 'banja luka',\n 'des moines',\n 'alpharetta',\n 'saint-genis-pouilly',\n 'michurinsk',\n 'bobrovskiy',\n 'surat thani',\n 'cambridge',\n 'germersheim',\n 'voronezjskaja',\n 'montpellier',\n 'cape coral',\n 'playa del carmen',\n 'zaventem',\n 'salihorsk',\n 'reims',\n 'kushimoto',\n 'doral',\n 'chegem',\n 'wolno-nadeschdinskoje',\n 'stara zagora',\n 'nantucket',\n 'bolekhiv',\n 'yelizovo',\n 'kramatorsk',\n 'hyderabad',\n 'yangon',\n 'yeovil',\n 'sunne',\n 'thessaloniki',\n 'abuja',\n 'middletown',\n 'lagos',\n 'dallas',\n 'rychnov nad kneznou',\n 'belfort',\n 'postbauer-heng',\n 'franklin',\n 'indore',\n 'huntington beach',\n 'timofeevka',\n 'atlanta',\n 'marbella',\n 'holon',\n 'binfield',\n 'brixen',\n 'haarlem',\n 'bedford',\n 'hialeah gardens',\n 'noisy-le-grand',\n 'ust-labinsk',\n 'fort madison',\n 'marlow',\n 'abbotsford',\n 'jurmala',\n 'brno',\n 'starokorsunskaya',\n 'bila tserkva',\n 'kachkanar',\n 'adelaide',\n 'las vegas',\n 'iskitim',\n 'stanwell',\n 'purcellville',\n 'santiago',\n 'gurgaon',\n 'narva',\n 'havelock-belmont-methuen',\n 'davie',\n 'sibay',\n 'forte dei marmi',\n 'vlasikha',\n 'prangins',\n 'yalikavak',\n 'cherkasy',\n 'guangzhou',\n 'agoi',\n 'marl',\n 'las palmas de gran canaria',\n 'stryi',\n 'nagareyama',\n 'bukavu',\n 'keila',\n 'chernivtsi',\n 'aalen',\n 'herford',\n 'strasbourg',\n 'iesi',\n 'belorechensk',\n 'rendsburg',\n 'freising',\n ...]"
     },
     "execution_count": 74,
     "metadata": {},
     "output_type": "execute_result"
    }
   ],
   "source": [
    "list"
   ],
   "metadata": {
    "collapsed": false,
    "ExecuteTime": {
     "end_time": "2023-10-17T15:30:55.896366Z",
     "start_time": "2023-10-17T15:30:55.893118Z"
    }
   },
   "id": "8f31a5a43a9670c6"
  },
  {
   "cell_type": "code",
   "execution_count": 75,
   "outputs": [
    {
     "name": "stdout",
     "output_type": "stream",
     "text": [
      "<class 'pandas.core.frame.DataFrame'>\n",
      "Index: 1690759 entries, 0 to 1781973\n",
      "Data columns (total 21 columns):\n",
      " #   Column                Non-Null Count    Dtype  \n",
      "---  ------                --------------    -----  \n",
      " 0   utm_source            1690759 non-null  object \n",
      " 1   utm_medium            1690759 non-null  object \n",
      " 2   utm_campaign          1690759 non-null  object \n",
      " 3   utm_adcontent         1690759 non-null  object \n",
      " 4   utm_keyword           1690759 non-null  object \n",
      " 5   device_category       1690759 non-null  object \n",
      " 6   device_brand          1690759 non-null  object \n",
      " 7   device_browser        1690759 non-null  object \n",
      " 8   geo_country           1690759 non-null  object \n",
      " 9   geo_city              1690759 non-null  object \n",
      " 10  target                1690759 non-null  int64  \n",
      " 11  Year                  1690759 non-null  int64  \n",
      " 12  Month                 1690759 non-null  int64  \n",
      " 13  Day                   1690759 non-null  int64  \n",
      " 14  utm_source_is_social  1690759 non-null  int64  \n",
      " 15  hour                  1690759 non-null  int64  \n",
      " 16  minute                1690759 non-null  int64  \n",
      " 17  screen_width          1690759 non-null  int64  \n",
      " 18  screen_height         1690759 non-null  int64  \n",
      " 19  device_screen_area    1690759 non-null  int64  \n",
      " 20  device_screen_ratio   1690759 non-null  float64\n",
      "dtypes: float64(1), int64(10), object(10)\n",
      "memory usage: 283.8+ MB\n"
     ]
    }
   ],
   "source": [
    "df.info()"
   ],
   "metadata": {
    "collapsed": false,
    "ExecuteTime": {
     "end_time": "2023-10-17T15:30:56.197716Z",
     "start_time": "2023-10-17T15:30:55.895608Z"
    }
   },
   "id": "66c92d28bff37ad2"
  },
  {
   "cell_type": "code",
   "execution_count": 76,
   "outputs": [
    {
     "name": "stdout",
     "output_type": "stream",
     "text": [
      "727883\n"
     ]
    }
   ],
   "source": [
    "count_moscow = (df['geo_city'] == 'moscow').sum()\n",
    "\n",
    "# Посмотрим здесь, какое количество минимальных заявок из города подобрать, по заявкам очевидно из самого большого города\n",
    "print(count_moscow)"
   ],
   "metadata": {
    "collapsed": false,
    "ExecuteTime": {
     "end_time": "2023-10-17T15:30:56.256381Z",
     "start_time": "2023-10-17T15:30:56.252767Z"
    }
   },
   "id": "fc1b28e76505f365"
  },
  {
   "cell_type": "code",
   "execution_count": 77,
   "outputs": [],
   "source": [
    "#Попробуем вычислить и удалить редкие города, для оптимизации количества уникальных значений. \n",
    "#Я вручную провел тесты, начиная от 1 до 10, даже на тех, которые встречаются меньше 100 раз, уменьшение датасета произошло на несколько тысяч строк, а уменьшение уникальных значений на 2000, что благоприятно скажется при ohe кодировании без потери полезных данных.\n",
    "city_quantity = df['geo_city'].value_counts()\n",
    "rare_cities = city_quantity[city_quantity < 100].index.tolist()\n",
    "df = df[~df['geo_city'].isin(rare_cities)]"
   ],
   "metadata": {
    "collapsed": false,
    "ExecuteTime": {
     "end_time": "2023-10-17T15:30:56.606978Z",
     "start_time": "2023-10-17T15:30:56.335407Z"
    }
   },
   "id": "1784a6ca696dc917"
  },
  {
   "cell_type": "code",
   "execution_count": 78,
   "outputs": [
    {
     "data": {
      "text/plain": "(1672554, 21)"
     },
     "execution_count": 78,
     "metadata": {},
     "output_type": "execute_result"
    }
   ],
   "source": [
    "df.shape"
   ],
   "metadata": {
    "collapsed": false,
    "ExecuteTime": {
     "end_time": "2023-10-17T15:30:56.610320Z",
     "start_time": "2023-10-17T15:30:56.607776Z"
    }
   },
   "id": "7d0bcc6edea274cc"
  },
  {
   "cell_type": "code",
   "execution_count": 79,
   "outputs": [
    {
     "data": {
      "text/plain": "utm_source               269\nutm_medium                52\nutm_campaign             400\nutm_adcontent            275\nutm_keyword             1177\ndevice_category            3\ndevice_brand             192\ndevice_browser            32\ngeo_country              120\ngeo_city                 330\ntarget                     2\nYear                       1\nMonth                      8\nDay                       31\nutm_source_is_social       2\nhour                      24\nminute                    60\nscreen_width             824\nscreen_height            644\ndevice_screen_area      3827\ndevice_screen_ratio     3585\ndtype: int64"
     },
     "execution_count": 79,
     "metadata": {},
     "output_type": "execute_result"
    }
   ],
   "source": [
    "df.nunique()"
   ],
   "metadata": {
    "collapsed": false,
    "ExecuteTime": {
     "end_time": "2023-10-17T15:30:57.183110Z",
     "start_time": "2023-10-17T15:30:56.643336Z"
    }
   },
   "id": "29ed5681d1a74d09"
  },
  {
   "cell_type": "code",
   "execution_count": 80,
   "outputs": [],
   "source": [
    "#По такому же принципу уберем очень редкое для screen_width и screen_height. В случае с городами поставили 40, потому что мы можем потерять пару полезных строк, но это не то количество, которое говорит о заинтересованности сервиса городом в целом. В случае с размером дисплея все сложнее, это может быть и редкий смартфон в хорошем смысле и редкий смартфон в плохом смысле, поэтому 10 будет достаточно. Потери опять же пара тысяч строк\n",
    "screen_quantity = df['screen_width'].value_counts()\n",
    "rare_screen = screen_quantity[screen_quantity < 50].index.tolist()\n",
    "df = df[~df['screen_width'].isin(rare_screen)]"
   ],
   "metadata": {
    "collapsed": false,
    "ExecuteTime": {
     "end_time": "2023-10-17T15:30:57.376829Z",
     "start_time": "2023-10-17T15:30:57.190017Z"
    }
   },
   "id": "f1e8362b637ff0c6"
  },
  {
   "cell_type": "code",
   "execution_count": 81,
   "outputs": [],
   "source": [
    "screen1_quantity = df['screen_height'].value_counts()\n",
    "rare_screen1 = screen1_quantity[screen1_quantity < 50].index.tolist()\n",
    "df = df[~df['screen_height'].isin(rare_screen1)]"
   ],
   "metadata": {
    "collapsed": false,
    "ExecuteTime": {
     "end_time": "2023-10-17T15:30:57.558989Z",
     "start_time": "2023-10-17T15:30:57.384142Z"
    }
   },
   "id": "5e5679d56ca3dc85"
  },
  {
   "cell_type": "code",
   "execution_count": 82,
   "outputs": [
    {
     "data": {
      "text/plain": "(1663348, 21)"
     },
     "execution_count": 82,
     "metadata": {},
     "output_type": "execute_result"
    }
   ],
   "source": [
    "df.shape"
   ],
   "metadata": {
    "collapsed": false,
    "ExecuteTime": {
     "end_time": "2023-10-17T15:30:57.559341Z",
     "start_time": "2023-10-17T15:30:57.555187Z"
    }
   },
   "id": "ba98b11536fe6596"
  },
  {
   "cell_type": "code",
   "execution_count": 83,
   "outputs": [
    {
     "data": {
      "text/plain": "utm_source               263\nutm_medium                52\nutm_campaign             400\nutm_adcontent            274\nutm_keyword             1167\ndevice_category            3\ndevice_brand             189\ndevice_browser            32\ngeo_country              119\ngeo_city                 330\ntarget                     2\nYear                       1\nMonth                      8\nDay                       31\nutm_source_is_social       2\nhour                      24\nminute                    60\nscreen_width             107\nscreen_height            180\ndevice_screen_area      1129\ndevice_screen_ratio     1041\ndtype: int64"
     },
     "execution_count": 83,
     "metadata": {},
     "output_type": "execute_result"
    }
   ],
   "source": [
    "df.nunique() #Достаточно урезали уникальные значения, теоретически можно еще, но это будет видно после первых результатов обучения"
   ],
   "metadata": {
    "collapsed": false,
    "ExecuteTime": {
     "end_time": "2023-10-17T15:30:58.119883Z",
     "start_time": "2023-10-17T15:30:57.590038Z"
    }
   },
   "id": "59b8f4a0c478096f"
  },
  {
   "cell_type": "code",
   "execution_count": 84,
   "outputs": [
    {
     "data": {
      "text/plain": "['leophuyfvzonfnzggfcd',\n 'ftjnldytrxawygzymfkv',\n 'leophuyfvzonfnzggfcd',\n 'ltuzkdkfxrgvceowkvyg',\n 'ltuzkdkfxrgvceowkvyg',\n 'ltuzkdkfxrgvceowkvyg',\n 'leophuyfvzonfnzggfcd',\n 'leophuyfvzonfnzggfcd',\n 'leophuyfvzonfnzggfcd',\n 'leophuyfvzonfnzggfcd',\n 'ltuzkdkfxrgvceowkvyg',\n 'ltuzkdkfxrgvceowkvyg',\n 'ltuzkdkfxrgvceowkvyg',\n 'ltuzkdkfxrgvceowkvyg',\n 'gecbyckzcpmcvydsszkp',\n 'leophuyfvzonfnzggfcd',\n 'gecbyckzcpmcvydsszkp',\n 'gecbyckzcpmcvydsszkp',\n 'leophuyfvzonfnzggfcd',\n 'gecbyckzcpmcvydsszkp',\n 'ftjnldytrxawygzymfkv',\n 'ftjnldytrxawygzymfkv',\n 'ftjnldytrxawygzymfkv',\n 'ftjnldytrxawygzymfkv',\n 'ftjnldytrxawygzymfkv',\n 'eimruurnhzlaycwrrnxu',\n 'ltuzkdkfxrgvceowkvyg',\n 'ltuzkdkfxrgvceowkvyg',\n 'ltuzkdkfxrgvceowkvyg',\n 'ltuzkdkfxrgvceowkvyg',\n 'leophuyfvzonfnzggfcd',\n 'ltuzkdkfxrgvceowkvyg',\n 'ltuzkdkfxrgvceowkvyg',\n 'ftjnldytrxawygzymfkv',\n 'ltuzkdkfxrgvceowkvyg',\n 'leophuyfvzonfnzggfcd',\n 'lwjzxkuwmvohpsacerjg',\n 'lwjzxkuwmvohpsacerjg',\n 'lwjzxkuwmvohpsacerjg',\n 'ltuzkdkfxrgvceowkvyg',\n 'ltuzkdkfxrgvceowkvyg',\n 'gecbyckzcpmcvydsszkp',\n 'oktxsmaddkjvntehzijp',\n 'leophuyfvzonfnzggfcd',\n 'ltuzkdkfxrgvceowkvyg',\n 'ltuzkdkfxrgvceowkvyg',\n 'eimruurnhzlaycwrrnxu',\n 'pxqwduxeuoxfokztbgpy',\n 'leophuyfvzonfnzggfcd',\n 'leophuyfvzonfnzggfcd',\n 'leophuyfvzonfnzggfcd',\n 'zxoilxhusifrcetlqvwz',\n 'nsretmyftbsjlprtkoax',\n 'ltuzkdkfxrgvceowkvyg',\n 'ltuzkdkfxrgvceowkvyg',\n 'leophuyfvzonfnzggfcd',\n 'leophuyfvzonfnzggfcd',\n 'leophuyfvzonfnzggfcd',\n 'gecbyckzcpmcvydsszkp',\n 'bvkxkcohkuovkpbrlmgz',\n 'ltuzkdkfxrgvceowkvyg',\n 'ltuzkdkfxrgvceowkvyg',\n 'ltuzkdkfxrgvceowkvyg',\n 'ltuzkdkfxrgvceowkvyg',\n 'leophuyfvzonfnzggfcd',\n 'leophuyfvzonfnzggfcd',\n 'leophuyfvzonfnzggfcd',\n 'leophuyfvzonfnzggfcd',\n 'leophuyfvzonfnzggfcd',\n 'qeejxfoctomflzqipapp',\n 'ltuzkdkfxrgvceowkvyg',\n 'nsretmyftbsjlprtkoax',\n 'leophuyfvzonfnzggfcd',\n 'leophuyfvzonfnzggfcd',\n 'leophuyfvzonfnzggfcd',\n 'ftjnldytrxawygzymfkv',\n 'ftjnldytrxawygzymfkv',\n 'ltuzkdkfxrgvceowkvyg',\n 'oktxsmaddkjvntehzijp',\n 'ltuzkdkfxrgvceowkvyg',\n 'ltuzkdkfxrgvceowkvyg',\n 'ltuzkdkfxrgvceowkvyg',\n 'ftjnldytrxawygzymfkv',\n 'kvorikzfreygvixpclal',\n 'xhnuiskkgtepsalavmfq',\n 'ltuzkdkfxrgvceowkvyg',\n 'foftsduvnqqkpzzvgiqt',\n 'gecbyckzcpmcvydsszkp',\n 'sgiudyuknywhvowuoqid',\n 'leophuyfvzonfnzggfcd',\n 'sgiudyuknywhvowuoqid',\n 'ltuzkdkfxrgvceowkvyg',\n 'bazcuyhznaprmgomrccq',\n 'nsretmyftbsjlprtkoax',\n 'kvorikzfreygvixpclal',\n 'bxotvptygsdurbwoxcpo',\n 'ltuzkdkfxrgvceowkvyg',\n 'ltuzkdkfxrgvceowkvyg',\n 'ftjnldytrxawygzymfkv',\n 'dxvdsstqphsyvmrchykt',\n 'ftjnldytrxawygzymfkv',\n 'gwzgdhkpgmzpnpwkjshu',\n 'ltuzkdkfxrgvceowkvyg',\n 'ltuzkdkfxrgvceowkvyg',\n 'ltuzkdkfxrgvceowkvyg',\n 'gecbyckzcpmcvydsszkp',\n 'gecbyckzcpmcvydsszkp',\n 'ltuzkdkfxrgvceowkvyg',\n 'ltuzkdkfxrgvceowkvyg',\n 'jwyiveahvpeerzloqcff',\n 'jwyiveahvpeerzloqcff',\n 'jwyiveahvpeerzloqcff',\n 'jwyiveahvpeerzloqcff',\n 'leophuyfvzonfnzggfcd',\n 'ftjnldytrxawygzymfkv',\n 'gecbyckzcpmcvydsszkp',\n 'ltuzkdkfxrgvceowkvyg',\n 'xhnuiskkgtepsalavmfq',\n 'ltuzkdkfxrgvceowkvyg',\n 'ftjnldytrxawygzymfkv',\n 'leophuyfvzonfnzggfcd',\n 'ltuzkdkfxrgvceowkvyg',\n 'ltuzkdkfxrgvceowkvyg',\n 'ltuzkdkfxrgvceowkvyg',\n 'ltuzkdkfxrgvceowkvyg',\n 'leophuyfvzonfnzggfcd',\n 'sgiudyuknywhvowuoqid',\n 'uvumsosdbwqgoibdbxfv',\n 'lwjzxkuwmvohpsacerjg',\n 'gecbyckzcpmcvydsszkp',\n 'ltuzkdkfxrgvceowkvyg',\n 'leophuyfvzonfnzggfcd',\n 'leophuyfvzonfnzggfcd',\n 'leophuyfvzonfnzggfcd',\n 'gecbyckzcpmcvydsszkp',\n 'ltuzkdkfxrgvceowkvyg',\n 'ltuzkdkfxrgvceowkvyg',\n 'leophuyfvzonfnzggfcd',\n 'leophuyfvzonfnzggfcd',\n 'zxoilxhusifrcetlqvwz',\n 'gecbyckzcpmcvydsszkp',\n 'ftjnldytrxawygzymfkv',\n 'ltuzkdkfxrgvceowkvyg',\n 'gecbyckzcpmcvydsszkp',\n 'leophuyfvzonfnzggfcd',\n 'roditorhdzgfghncyemy',\n 'ltuzkdkfxrgvceowkvyg',\n 'leophuyfvzonfnzggfcd',\n 'leophuyfvzonfnzggfcd',\n 'tmthbvoccwkczzuwacyq',\n 'ltuzkdkfxrgvceowkvyg',\n 'ltuzkdkfxrgvceowkvyg',\n 'ltuzkdkfxrgvceowkvyg',\n 'ltuzkdkfxrgvceowkvyg',\n 'ltuzkdkfxrgvceowkvyg',\n 'sbjrygvfvcnqkjnddyir',\n 'ftjnldytrxawygzymfkv',\n 'ftjnldytrxawygzymfkv',\n 'xgyoajeaswtwakndcgvx',\n 'ltuzkdkfxrgvceowkvyg',\n 'oktxsmaddkjvntehzijp',\n 'dmiplifgkzafygowsqtp',\n 'pxqwduxeuoxfokztbgpy',\n 'ltuzkdkfxrgvceowkvyg',\n 'ltuzkdkfxrgvceowkvyg',\n 'ltuzkdkfxrgvceowkvyg',\n 'evhrtrzijnqyhzipilzv',\n 'aqudxfunmxwsdwvgyaxr',\n 'ltuzkdkfxrgvceowkvyg',\n 'ltuzkdkfxrgvceowkvyg',\n 'rxechelwobbxieakqfxv',\n 'gecbyckzcpmcvydsszkp',\n 'uvumsosdbwqgoibdbxfv',\n 'gecbyckzcpmcvydsszkp',\n 'leophuyfvzonfnzggfcd',\n 'gecbyckzcpmcvydsszkp',\n 'gecbyckzcpmcvydsszkp',\n 'ltuzkdkfxrgvceowkvyg',\n 'ltuzkdkfxrgvceowkvyg',\n 'ltuzkdkfxrgvceowkvyg',\n 'ltuzkdkfxrgvceowkvyg',\n 'hkvdvxqlozgjgaoninzn',\n 'ltuzkdkfxrgvceowkvyg',\n 'qdlfysagxolftbsnvfhn',\n 'ltuzkdkfxrgvceowkvyg',\n 'qdlfysagxolftbsnvfhn',\n 'ftjnldytrxawygzymfkv',\n 'ftjnldytrxawygzymfkv',\n 'oktxsmaddkjvntehzijp',\n 'nsretmyftbsjlprtkoax',\n 'nsretmyftbsjlprtkoax',\n 'tmthbvoccwkczzuwacyq',\n 'ltuzkdkfxrgvceowkvyg',\n 'oktxsmaddkjvntehzijp',\n 'dxvdsstqphsyvmrchykt',\n 'bxotvptygsdurbwoxcpo',\n 'ltuzkdkfxrgvceowkvyg',\n 'ftjnldytrxawygzymfkv',\n 'ftjnldytrxawygzymfkv',\n 'gecbyckzcpmcvydsszkp',\n 'ltuzkdkfxrgvceowkvyg',\n 'ltuzkdkfxrgvceowkvyg',\n 'leophuyfvzonfnzggfcd',\n 'leophuyfvzonfnzggfcd',\n 'qeejxfoctomflzqipapp',\n 'qeejxfoctomflzqipapp',\n 'ltuzkdkfxrgvceowkvyg',\n 'ltuzkdkfxrgvceowkvyg',\n 'nsretmyftbsjlprtkoax',\n 'ltuzkdkfxrgvceowkvyg',\n 'gecbyckzcpmcvydsszkp',\n 'gecbyckzcpmcvydsszkp',\n 'gecbyckzcpmcvydsszkp',\n 'xhnuiskkgtepsalavmfq',\n 'ltuzkdkfxrgvceowkvyg',\n 'ltuzkdkfxrgvceowkvyg',\n 'gecbyckzcpmcvydsszkp',\n 'gecbyckzcpmcvydsszkp',\n 'gecbyckzcpmcvydsszkp',\n 'ltuzkdkfxrgvceowkvyg',\n 'ulaupjggnizyqgwzwzgr',\n 'ftjnldytrxawygzymfkv',\n 'roditorhdzgfghncyemy',\n 'leophuyfvzonfnzggfcd',\n 'gecbyckzcpmcvydsszkp',\n 'gecbyckzcpmcvydsszkp',\n 'ulaupjggnizyqgwzwzgr',\n 'ltuzkdkfxrgvceowkvyg',\n 'ftjnldytrxawygzymfkv',\n 'oktxsmaddkjvntehzijp',\n 'leophuyfvzonfnzggfcd',\n 'leophuyfvzonfnzggfcd',\n 'lwjzxkuwmvohpsacerjg',\n 'ltuzkdkfxrgvceowkvyg',\n 'lwjzxkuwmvohpsacerjg',\n 'ltuzkdkfxrgvceowkvyg',\n 'lwjzxkuwmvohpsacerjg',\n 'ltuzkdkfxrgvceowkvyg',\n 'jajanofxoqxfkrnbuhzx',\n 'uethtwaexfprduerwqqj',\n 'uethtwaexfprduerwqqj',\n 'ltuzkdkfxrgvceowkvyg',\n 'mxqmdyetmticssittjwv',\n 'mxqmdyetmticssittjwv',\n 'mxqmdyetmticssittjwv',\n 'ikqsapkupmzqqmhieegf',\n 'zxoilxhusifrcetlqvwz',\n 'ltuzkdkfxrgvceowkvyg',\n 'ltuzkdkfxrgvceowkvyg',\n 'kgicppxieqfzplpwqzjq',\n 'ftjnldytrxawygzymfkv',\n 'ltuzkdkfxrgvceowkvyg',\n 'leophuyfvzonfnzggfcd',\n 'leophuyfvzonfnzggfcd',\n 'leophuyfvzonfnzggfcd',\n 'ltuzkdkfxrgvceowkvyg',\n 'lwjzxkuwmvohpsacerjg',\n 'lwjzxkuwmvohpsacerjg',\n 'gvwpgdjdptenmfiatptg',\n 'ltuzkdkfxrgvceowkvyg',\n 'ltuzkdkfxrgvceowkvyg',\n 'ltuzkdkfxrgvceowkvyg',\n 'gecbyckzcpmcvydsszkp',\n 'ltuzkdkfxrgvceowkvyg',\n 'gecbyckzcpmcvydsszkp',\n 'ltuzkdkfxrgvceowkvyg',\n 'lwjzxkuwmvohpsacerjg',\n 'ltuzkdkfxrgvceowkvyg',\n 'leophuyfvzonfnzggfcd',\n 'leophuyfvzonfnzggfcd',\n 'wpmatvduimutnvmnvpjo',\n 'roditorhdzgfghncyemy',\n 'ltuzkdkfxrgvceowkvyg',\n 'roditorhdzgfghncyemy',\n 'leophuyfvzonfnzggfcd',\n 'leophuyfvzonfnzggfcd',\n 'leophuyfvzonfnzggfcd',\n 'leophuyfvzonfnzggfcd',\n 'leophuyfvzonfnzggfcd',\n 'leophuyfvzonfnzggfcd',\n 'ltuzkdkfxrgvceowkvyg',\n 'gecbyckzcpmcvydsszkp',\n 'gecbyckzcpmcvydsszkp',\n 'ltuzkdkfxrgvceowkvyg',\n 'gecbyckzcpmcvydsszkp',\n 'ftjnldytrxawygzymfkv',\n 'leophuyfvzonfnzggfcd',\n 'leophuyfvzonfnzggfcd',\n 'leophuyfvzonfnzggfcd',\n 'ltuzkdkfxrgvceowkvyg',\n 'ftjnldytrxawygzymfkv',\n 'gecbyckzcpmcvydsszkp',\n 'oktxsmaddkjvntehzijp',\n 'ltuzkdkfxrgvceowkvyg',\n 'ftjnldytrxawygzymfkv',\n 'xhnuiskkgtepsalavmfq',\n 'roditorhdzgfghncyemy',\n 'roditorhdzgfghncyemy',\n 'roditorhdzgfghncyemy',\n 'ltuzkdkfxrgvceowkvyg',\n 'ltuzkdkfxrgvceowkvyg',\n 'ltuzkdkfxrgvceowkvyg',\n 'sgiudyuknywhvowuoqid',\n 'sgiudyuknywhvowuoqid',\n 'ltuzkdkfxrgvceowkvyg',\n 'leophuyfvzonfnzggfcd',\n 'ltuzkdkfxrgvceowkvyg',\n 'ftjnldytrxawygzymfkv',\n 'leophuyfvzonfnzggfcd',\n 'gecbyckzcpmcvydsszkp',\n 'gecbyckzcpmcvydsszkp',\n 'ltuzkdkfxrgvceowkvyg',\n 'ltuzkdkfxrgvceowkvyg',\n 'qeejxfoctomflzqipapp',\n 'ftjnldytrxawygzymfkv',\n 'leophuyfvzonfnzggfcd',\n 'ftjnldytrxawygzymfkv',\n 'ftjnldytrxawygzymfkv',\n 'ltuzkdkfxrgvceowkvyg',\n 'ltuzkdkfxrgvceowkvyg',\n 'ltuzkdkfxrgvceowkvyg',\n 'ltuzkdkfxrgvceowkvyg',\n 'ltuzkdkfxrgvceowkvyg',\n 'ltuzkdkfxrgvceowkvyg',\n 'oktxsmaddkjvntehzijp',\n 'ftjnldytrxawygzymfkv',\n 'leophuyfvzonfnzggfcd',\n 'leophuyfvzonfnzggfcd',\n 'leophuyfvzonfnzggfcd',\n 'ftjnldytrxawygzymfkv',\n 'ltuzkdkfxrgvceowkvyg',\n 'gecbyckzcpmcvydsszkp',\n 'sbjrygvfvcnqkjnddyir',\n 'leophuyfvzonfnzggfcd',\n 'leophuyfvzonfnzggfcd',\n 'gecbyckzcpmcvydsszkp',\n 'leophuyfvzonfnzggfcd',\n 'ltuzkdkfxrgvceowkvyg',\n 'leophuyfvzonfnzggfcd',\n 'leophuyfvzonfnzggfcd',\n 'gecbyckzcpmcvydsszkp',\n 'ltuzkdkfxrgvceowkvyg',\n 'ftjnldytrxawygzymfkv',\n 'izexuflarcumynmhnbgo',\n 'izexuflarcumynmhnbgo',\n 'sbjrygvfvcnqkjnddyir',\n 'leophuyfvzonfnzggfcd',\n 'leophuyfvzonfnzggfcd',\n 'ltuzkdkfxrgvceowkvyg',\n 'ltuzkdkfxrgvceowkvyg',\n 'ikqsapkupmzqqmhieegf',\n 'zfwiehuefwydyrezgrlo',\n 'ltuzkdkfxrgvceowkvyg',\n 'ltuzkdkfxrgvceowkvyg',\n 'ltuzkdkfxrgvceowkvyg',\n 'ltuzkdkfxrgvceowkvyg',\n 'leophuyfvzonfnzggfcd',\n 'xhnuiskkgtepsalavmfq',\n 'ltuzkdkfxrgvceowkvyg',\n 'ltuzkdkfxrgvceowkvyg',\n 'ltuzkdkfxrgvceowkvyg',\n 'ltuzkdkfxrgvceowkvyg',\n 'leophuyfvzonfnzggfcd',\n 'leophuyfvzonfnzggfcd',\n 'leophuyfvzonfnzggfcd',\n 'lwjzxkuwmvohpsacerjg',\n 'ftjnldytrxawygzymfkv',\n 'ltuzkdkfxrgvceowkvyg',\n 'ltuzkdkfxrgvceowkvyg',\n 'ltuzkdkfxrgvceowkvyg',\n 'gecbyckzcpmcvydsszkp',\n 'leophuyfvzonfnzggfcd',\n 'yckgtztdywjcwyqudgch',\n 'ltuzkdkfxrgvceowkvyg',\n 'ltuzkdkfxrgvceowkvyg',\n 'leophuyfvzonfnzggfcd',\n 'gvwpgdjdptenmfiatptg',\n 'leophuyfvzonfnzggfcd',\n 'ftjnldytrxawygzymfkv',\n 'xhnuiskkgtepsalavmfq',\n 'ltuzkdkfxrgvceowkvyg',\n 'xhnuiskkgtepsalavmfq',\n 'ftjnldytrxawygzymfkv',\n 'ltuzkdkfxrgvceowkvyg',\n 'wpmatvduimutnvmnvpjo',\n 'ltuzkdkfxrgvceowkvyg',\n 'ltuzkdkfxrgvceowkvyg',\n 'ltuzkdkfxrgvceowkvyg',\n 'leophuyfvzonfnzggfcd',\n 'leophuyfvzonfnzggfcd',\n 'ltuzkdkfxrgvceowkvyg',\n 'tmthbvoccwkczzuwacyq',\n 'ftjnldytrxawygzymfkv',\n 'ltuzkdkfxrgvceowkvyg',\n 'sgiudyuknywhvowuoqid',\n 'zpjpddwzkfqlmsygtdqy',\n 'leophuyfvzonfnzggfcd',\n 'vxsfkaggabkcwklglzsg',\n 'ltuzkdkfxrgvceowkvyg',\n 'leophuyfvzonfnzggfcd',\n 'ltuzkdkfxrgvceowkvyg',\n 'ltuzkdkfxrgvceowkvyg',\n 'leophuyfvzonfnzggfcd',\n 'ltuzkdkfxrgvceowkvyg',\n 'leophuyfvzonfnzggfcd',\n 'ltuzkdkfxrgvceowkvyg',\n 'leophuyfvzonfnzggfcd',\n 'leophuyfvzonfnzggfcd',\n 'leophuyfvzonfnzggfcd',\n 'leophuyfvzonfnzggfcd',\n 'ltuzkdkfxrgvceowkvyg',\n 'ftjnldytrxawygzymfkv',\n 'gwzgdhkpgmzpnpwkjshu',\n 'ftjnldytrxawygzymfkv',\n 'sbjrygvfvcnqkjnddyir',\n 'sbjrygvfvcnqkjnddyir',\n 'ltuzkdkfxrgvceowkvyg',\n 'leophuyfvzonfnzggfcd',\n 'msvmbvlhfgftjaqazedp',\n 'uzltllnydjiwxwashyfn',\n 'leophuyfvzonfnzggfcd',\n 'ltuzkdkfxrgvceowkvyg',\n 'leophuyfvzonfnzggfcd',\n 'oktxsmaddkjvntehzijp',\n 'gecbyckzcpmcvydsszkp',\n 'gecbyckzcpmcvydsszkp',\n 'leophuyfvzonfnzggfcd',\n 'ftjnldytrxawygzymfkv',\n 'izexuflarcumynmhnbgo',\n 'leophuyfvzonfnzggfcd',\n 'leophuyfvzonfnzggfcd',\n 'leophuyfvzonfnzggfcd',\n 'gecbyckzcpmcvydsszkp',\n 'xgrbrubkksqpkkarpeon',\n 'ltuzkdkfxrgvceowkvyg',\n 'ltuzkdkfxrgvceowkvyg',\n 'leophuyfvzonfnzggfcd',\n 'ftjnldytrxawygzymfkv',\n 'gecbyckzcpmcvydsszkp',\n 'gecbyckzcpmcvydsszkp',\n 'bxotvptygsdurbwoxcpo',\n 'bxotvptygsdurbwoxcpo',\n 'leophuyfvzonfnzggfcd',\n 'ftjnldytrxawygzymfkv',\n 'ltuzkdkfxrgvceowkvyg',\n 'leophuyfvzonfnzggfcd',\n 'ltuzkdkfxrgvceowkvyg',\n 'ltuzkdkfxrgvceowkvyg',\n 'wpmatvduimutnvmnvpjo',\n 'leophuyfvzonfnzggfcd',\n 'ltuzkdkfxrgvceowkvyg',\n 'ltuzkdkfxrgvceowkvyg',\n 'ltuzkdkfxrgvceowkvyg',\n 'leophuyfvzonfnzggfcd',\n 'ltuzkdkfxrgvceowkvyg',\n 'gecbyckzcpmcvydsszkp',\n 'bxotvptygsdurbwoxcpo',\n 'ltuzkdkfxrgvceowkvyg',\n 'ftjnldytrxawygzymfkv',\n 'ftjnldytrxawygzymfkv',\n 'ltuzkdkfxrgvceowkvyg',\n 'roditorhdzgfghncyemy',\n 'roditorhdzgfghncyemy',\n 'roditorhdzgfghncyemy',\n 'roditorhdzgfghncyemy',\n 'ltuzkdkfxrgvceowkvyg',\n 'ltuzkdkfxrgvceowkvyg',\n 'ltuzkdkfxrgvceowkvyg',\n 'leophuyfvzonfnzggfcd',\n 'leophuyfvzonfnzggfcd',\n 'leophuyfvzonfnzggfcd',\n 'leophuyfvzonfnzggfcd',\n 'ltuzkdkfxrgvceowkvyg',\n 'ftjnldytrxawygzymfkv',\n 'ftjnldytrxawygzymfkv',\n 'leophuyfvzonfnzggfcd',\n 'esphyueltpiniyalhwro',\n 'qeejxfoctomflzqipapp',\n 'zxoilxhusifrcetlqvwz',\n 'jwyiveahvpeerzloqcff',\n 'ltuzkdkfxrgvceowkvyg',\n 'ltuzkdkfxrgvceowkvyg',\n 'gecbyckzcpmcvydsszkp',\n 'ftjnldytrxawygzymfkv',\n 'ftjnldytrxawygzymfkv',\n 'ftjnldytrxawygzymfkv',\n 'ftjnldytrxawygzymfkv',\n 'ltuzkdkfxrgvceowkvyg',\n 'bxotvptygsdurbwoxcpo',\n 'leophuyfvzonfnzggfcd',\n 'qeejxfoctomflzqipapp',\n 'ltuzkdkfxrgvceowkvyg',\n 'ltuzkdkfxrgvceowkvyg',\n 'ltuzkdkfxrgvceowkvyg',\n 'ltuzkdkfxrgvceowkvyg',\n 'cdkikbrvevomsgvhzyvj',\n 'ftjnldytrxawygzymfkv',\n 'ftjnldytrxawygzymfkv',\n 'leophuyfvzonfnzggfcd',\n 'leophuyfvzonfnzggfcd',\n 'ltuzkdkfxrgvceowkvyg',\n 'emlbavkglvrqbevossxt',\n 'emlbavkglvrqbevossxt',\n 'leophuyfvzonfnzggfcd',\n 'leophuyfvzonfnzggfcd',\n 'ltuzkdkfxrgvceowkvyg',\n 'ltuzkdkfxrgvceowkvyg',\n 'hnthrvdbdqpbzrltwfss',\n 'leophuyfvzonfnzggfcd',\n 'leophuyfvzonfnzggfcd',\n 'tmthbvoccwkczzuwacyq',\n 'ftjnldytrxawygzymfkv',\n 'leophuyfvzonfnzggfcd',\n 'foftsduvnqqkpzzvgiqt',\n 'leophuyfvzonfnzggfcd',\n 'pxqwduxeuoxfokztbgpy',\n 'ltuzkdkfxrgvceowkvyg',\n 'leophuyfvzonfnzggfcd',\n 'ftjnldytrxawygzymfkv',\n 'sbjrygvfvcnqkjnddyir',\n 'kgicppxieqfzplpwqzjq',\n 'gecbyckzcpmcvydsszkp',\n 'bgtykdhjosjzmutoghiq',\n 'ujapcvnahtkydrkrlyuv',\n 'ltuzkdkfxrgvceowkvyg',\n 'ltuzkdkfxrgvceowkvyg',\n 'gecbyckzcpmcvydsszkp',\n 'ftjnldytrxawygzymfkv',\n 'ltuzkdkfxrgvceowkvyg',\n 'ltuzkdkfxrgvceowkvyg',\n 'ltuzkdkfxrgvceowkvyg',\n 'ltuzkdkfxrgvceowkvyg',\n 'xhnuiskkgtepsalavmfq',\n 'sbjrygvfvcnqkjnddyir',\n 'ftjnldytrxawygzymfkv',\n 'tmthbvoccwkczzuwacyq',\n 'ltuzkdkfxrgvceowkvyg',\n 'ltuzkdkfxrgvceowkvyg',\n 'msvmbvlhfgftjaqazedp',\n 'msvmbvlhfgftjaqazedp',\n 'ftjnldytrxawygzymfkv',\n 'ltuzkdkfxrgvceowkvyg',\n 'leophuyfvzonfnzggfcd',\n 'ltuzkdkfxrgvceowkvyg',\n 'ltuzkdkfxrgvceowkvyg',\n 'ftjnldytrxawygzymfkv',\n 'ltuzkdkfxrgvceowkvyg',\n 'leophuyfvzonfnzggfcd',\n 'bjjuexrherixxeayixqm',\n 'bxotvptygsdurbwoxcpo',\n 'ftjnldytrxawygzymfkv',\n 'leophuyfvzonfnzggfcd',\n 'leophuyfvzonfnzggfcd',\n 'gecbyckzcpmcvydsszkp',\n 'leophuyfvzonfnzggfcd',\n 'ltuzkdkfxrgvceowkvyg',\n 'ltuzkdkfxrgvceowkvyg',\n 'ftjnldytrxawygzymfkv',\n 'ltuzkdkfxrgvceowkvyg',\n 'gwzgdhkpgmzpnpwkjshu',\n 'ltuzkdkfxrgvceowkvyg',\n 'gecbyckzcpmcvydsszkp',\n 'leophuyfvzonfnzggfcd',\n 'kvorikzfreygvixpclal',\n 'ltuzkdkfxrgvceowkvyg',\n 'ltuzkdkfxrgvceowkvyg',\n 'leophuyfvzonfnzggfcd',\n 'jwyiveahvpeerzloqcff',\n 'ftjnldytrxawygzymfkv',\n 'jwyiveahvpeerzloqcff',\n 'ltuzkdkfxrgvceowkvyg',\n 'ltuzkdkfxrgvceowkvyg',\n 'ltuzkdkfxrgvceowkvyg',\n 'gecbyckzcpmcvydsszkp',\n 'ltuzkdkfxrgvceowkvyg',\n 'ltuzkdkfxrgvceowkvyg',\n 'oktxsmaddkjvntehzijp',\n 'ltuzkdkfxrgvceowkvyg',\n 'leophuyfvzonfnzggfcd',\n 'ftjnldytrxawygzymfkv',\n 'ltuzkdkfxrgvceowkvyg',\n 'leophuyfvzonfnzggfcd',\n 'ltuzkdkfxrgvceowkvyg',\n 'gecbyckzcpmcvydsszkp',\n 'jqluodzbnzyfinqvczls',\n 'leophuyfvzonfnzggfcd',\n 'ltuzkdkfxrgvceowkvyg',\n 'roditorhdzgfghncyemy',\n 'uvumsosdbwqgoibdbxfv',\n 'sgiudyuknywhvowuoqid',\n 'ftjnldytrxawygzymfkv',\n 'pxqwduxeuoxfokztbgpy',\n 'ftjnldytrxawygzymfkv',\n 'pxqwduxeuoxfokztbgpy',\n 'leophuyfvzonfnzggfcd',\n 'gecbyckzcpmcvydsszkp',\n 'qeejxfoctomflzqipapp',\n 'gecbyckzcpmcvydsszkp',\n 'leophuyfvzonfnzggfcd',\n 'ltuzkdkfxrgvceowkvyg',\n 'ltuzkdkfxrgvceowkvyg',\n 'gecbyckzcpmcvydsszkp',\n 'leophuyfvzonfnzggfcd',\n 'leophuyfvzonfnzggfcd',\n 'ltuzkdkfxrgvceowkvyg',\n 'leophuyfvzonfnzggfcd',\n 'ltuzkdkfxrgvceowkvyg',\n 'ltuzkdkfxrgvceowkvyg',\n 'ltuzkdkfxrgvceowkvyg',\n 'ltuzkdkfxrgvceowkvyg',\n 'ltuzkdkfxrgvceowkvyg',\n 'leophuyfvzonfnzggfcd',\n 'leophuyfvzonfnzggfcd',\n 'xwzreazvgptcckqsstmk',\n 'ltuzkdkfxrgvceowkvyg',\n 'qeejxfoctomflzqipapp',\n 'jwyiveahvpeerzloqcff',\n 'jwyiveahvpeerzloqcff',\n 'bxotvptygsdurbwoxcpo',\n 'bxotvptygsdurbwoxcpo',\n 'ltuzkdkfxrgvceowkvyg',\n 'ltuzkdkfxrgvceowkvyg',\n 'leophuyfvzonfnzggfcd',\n 'ftjnldytrxawygzymfkv',\n 'gecbyckzcpmcvydsszkp',\n 'oktxsmaddkjvntehzijp',\n 'ltuzkdkfxrgvceowkvyg',\n 'ftjnldytrxawygzymfkv',\n 'leophuyfvzonfnzggfcd',\n 'leophuyfvzonfnzggfcd',\n 'sbjrygvfvcnqkjnddyir',\n 'leophuyfvzonfnzggfcd',\n 'gecbyckzcpmcvydsszkp',\n 'ftjnldytrxawygzymfkv',\n 'ltuzkdkfxrgvceowkvyg',\n 'ltuzkdkfxrgvceowkvyg',\n 'leophuyfvzonfnzggfcd',\n 'gecbyckzcpmcvydsszkp',\n 'leophuyfvzonfnzggfcd',\n 'leophuyfvzonfnzggfcd',\n 'sbjrygvfvcnqkjnddyir',\n 'leophuyfvzonfnzggfcd',\n 'ftjnldytrxawygzymfkv',\n 'leophuyfvzonfnzggfcd',\n 'ftjnldytrxawygzymfkv',\n 'ltuzkdkfxrgvceowkvyg',\n 'ltuzkdkfxrgvceowkvyg',\n 'ftjnldytrxawygzymfkv',\n 'leophuyfvzonfnzggfcd',\n 'gecbyckzcpmcvydsszkp',\n 'wjukqfeorjxiohjgcgdr',\n 'leophuyfvzonfnzggfcd',\n 'leophuyfvzonfnzggfcd',\n 'leophuyfvzonfnzggfcd',\n 'ltuzkdkfxrgvceowkvyg',\n 'leophuyfvzonfnzggfcd',\n 'ltuzkdkfxrgvceowkvyg',\n 'leophuyfvzonfnzggfcd',\n 'leophuyfvzonfnzggfcd',\n 'ltuzkdkfxrgvceowkvyg',\n 'ltuzkdkfxrgvceowkvyg',\n 'ltuzkdkfxrgvceowkvyg',\n 'sbjrygvfvcnqkjnddyir',\n 'leophuyfvzonfnzggfcd',\n 'ftjnldytrxawygzymfkv',\n 'ltuzkdkfxrgvceowkvyg',\n 'uvumsosdbwqgoibdbxfv',\n 'gecbyckzcpmcvydsszkp',\n 'ltuzkdkfxrgvceowkvyg',\n 'vxsfkaggabkcwklglzsg',\n 'ltuzkdkfxrgvceowkvyg',\n 'ltuzkdkfxrgvceowkvyg',\n 'xhnuiskkgtepsalavmfq',\n 'ltuzkdkfxrgvceowkvyg',\n 'ltuzkdkfxrgvceowkvyg',\n 'lulvacdkkkokisuiwabs',\n 'leophuyfvzonfnzggfcd',\n 'cdkikbrvevomsgvhzyvj',\n 'ftjnldytrxawygzymfkv',\n 'ltuzkdkfxrgvceowkvyg',\n 'ltuzkdkfxrgvceowkvyg',\n 'ltuzkdkfxrgvceowkvyg',\n 'ltuzkdkfxrgvceowkvyg',\n 'ltuzkdkfxrgvceowkvyg',\n 'ltuzkdkfxrgvceowkvyg',\n 'ltuzkdkfxrgvceowkvyg',\n 'ftjnldytrxawygzymfkv',\n 'tmthbvoccwkczzuwacyq',\n 'leophuyfvzonfnzggfcd',\n 'gecbyckzcpmcvydsszkp',\n 'lwjzxkuwmvohpsacerjg',\n 'ltuzkdkfxrgvceowkvyg',\n 'ltuzkdkfxrgvceowkvyg',\n 'ltuzkdkfxrgvceowkvyg',\n 'ltuzkdkfxrgvceowkvyg',\n 'ltuzkdkfxrgvceowkvyg',\n 'gecbyckzcpmcvydsszkp',\n 'leophuyfvzonfnzggfcd',\n 'leophuyfvzonfnzggfcd',\n 'leophuyfvzonfnzggfcd',\n 'ltuzkdkfxrgvceowkvyg',\n 'kvorikzfreygvixpclal',\n 'vbmazutcflyumtdhrqye',\n 'gecbyckzcpmcvydsszkp',\n 'leophuyfvzonfnzggfcd',\n 'ltuzkdkfxrgvceowkvyg',\n 'sbjrygvfvcnqkjnddyir',\n 'ftjnldytrxawygzymfkv',\n 'ltuzkdkfxrgvceowkvyg',\n 'leophuyfvzonfnzggfcd',\n 'leophuyfvzonfnzggfcd',\n 'leophuyfvzonfnzggfcd',\n 'gecbyckzcpmcvydsszkp',\n 'leophuyfvzonfnzggfcd',\n 'leophuyfvzonfnzggfcd',\n 'vrltqqkasfqmxbchgphu',\n 'leophuyfvzonfnzggfcd',\n 'leophuyfvzonfnzggfcd',\n 'vfcahrxlfowkhvxjelkx',\n 'ftjnldytrxawygzymfkv',\n 'wlbwuobzwvsimzdfdlyw',\n 'ltuzkdkfxrgvceowkvyg',\n 'ltuzkdkfxrgvceowkvyg',\n 'ltuzkdkfxrgvceowkvyg',\n 'ltuzkdkfxrgvceowkvyg',\n 'ltuzkdkfxrgvceowkvyg',\n 'ltuzkdkfxrgvceowkvyg',\n 'ltuzkdkfxrgvceowkvyg',\n 'ltuzkdkfxrgvceowkvyg',\n 'oktxsmaddkjvntehzijp',\n 'zxoilxhusifrcetlqvwz',\n 'gecbyckzcpmcvydsszkp',\n 'ltuzkdkfxrgvceowkvyg',\n 'ltuzkdkfxrgvceowkvyg',\n 'roditorhdzgfghncyemy',\n 'sbjrygvfvcnqkjnddyir',\n 'mxqmdyetmticssittjwv',\n 'gecbyckzcpmcvydsszkp',\n 'leophuyfvzonfnzggfcd',\n 'gecbyckzcpmcvydsszkp',\n 'leophuyfvzonfnzggfcd',\n 'mxqmdyetmticssittjwv',\n 'ycntwlclkqzhwaglrell',\n 'ltuzkdkfxrgvceowkvyg',\n 'ltuzkdkfxrgvceowkvyg',\n 'ltuzkdkfxrgvceowkvyg',\n 'ftjnldytrxawygzymfkv',\n 'oktxsmaddkjvntehzijp',\n 'ltuzkdkfxrgvceowkvyg',\n 'ftjnldytrxawygzymfkv',\n 'bxotvptygsdurbwoxcpo',\n 'bxotvptygsdurbwoxcpo',\n 'leophuyfvzonfnzggfcd',\n 'leophuyfvzonfnzggfcd',\n 'bjjuexrherixxeayixqm',\n 'ltuzkdkfxrgvceowkvyg',\n 'bjjuexrherixxeayixqm',\n 'ltuzkdkfxrgvceowkvyg',\n 'bjjuexrherixxeayixqm',\n 'ltuzkdkfxrgvceowkvyg',\n 'bjjuexrherixxeayixqm',\n 'ltuzkdkfxrgvceowkvyg',\n 'gecbyckzcpmcvydsszkp',\n 'eimruurnhzlaycwrrnxu',\n 'ltuzkdkfxrgvceowkvyg',\n 'ftjnldytrxawygzymfkv',\n 'ltuzkdkfxrgvceowkvyg',\n 'uvumsosdbwqgoibdbxfv',\n 'gecbyckzcpmcvydsszkp',\n 'leophuyfvzonfnzggfcd',\n 'ltuzkdkfxrgvceowkvyg',\n 'ftjnldytrxawygzymfkv',\n 'sgiudyuknywhvowuoqid',\n 'sgiudyuknywhvowuoqid',\n 'uvumsosdbwqgoibdbxfv',\n 'pxqwduxeuoxfokztbgpy',\n 'leophuyfvzonfnzggfcd',\n 'ltuzkdkfxrgvceowkvyg',\n 'esphyueltpiniyalhwro',\n 'ltuzkdkfxrgvceowkvyg',\n 'ltuzkdkfxrgvceowkvyg',\n 'ltuzkdkfxrgvceowkvyg',\n 'tmthbvoccwkczzuwacyq',\n 'leophuyfvzonfnzggfcd',\n 'sbjrygvfvcnqkjnddyir',\n 'ltuzkdkfxrgvceowkvyg',\n 'ltuzkdkfxrgvceowkvyg',\n 'jwyiveahvpeerzloqcff',\n 'ltuzkdkfxrgvceowkvyg',\n 'jwyiveahvpeerzloqcff',\n 'ltuzkdkfxrgvceowkvyg',\n 'ltuzkdkfxrgvceowkvyg',\n 'ltuzkdkfxrgvceowkvyg',\n 'ltuzkdkfxrgvceowkvyg',\n 'ltuzkdkfxrgvceowkvyg',\n 'ltuzkdkfxrgvceowkvyg',\n 'leophuyfvzonfnzggfcd',\n 'bjjuexrherixxeayixqm',\n 'ltuzkdkfxrgvceowkvyg',\n 'bjjuexrherixxeayixqm',\n 'ltuzkdkfxrgvceowkvyg',\n 'ltuzkdkfxrgvceowkvyg',\n 'sgiudyuknywhvowuoqid',\n 'ltuzkdkfxrgvceowkvyg',\n 'ltuzkdkfxrgvceowkvyg',\n 'ltuzkdkfxrgvceowkvyg',\n 'ftjnldytrxawygzymfkv',\n 'ftjnldytrxawygzymfkv',\n 'leophuyfvzonfnzggfcd',\n 'jqluodzbnzyfinqvczls',\n 'jqluodzbnzyfinqvczls',\n 'leophuyfvzonfnzggfcd',\n 'gecbyckzcpmcvydsszkp',\n 'jvsvvqvkrfbiqbdbuckq',\n 'ltuzkdkfxrgvceowkvyg',\n 'leophuyfvzonfnzggfcd',\n 'sbjrygvfvcnqkjnddyir',\n 'ftjnldytrxawygzymfkv',\n 'ftjnldytrxawygzymfkv',\n 'bjjuexrherixxeayixqm',\n 'ftjnldytrxawygzymfkv',\n 'ftjnldytrxawygzymfkv',\n 'ftjnldytrxawygzymfkv',\n 'leophuyfvzonfnzggfcd',\n 'ltuzkdkfxrgvceowkvyg',\n 'ltuzkdkfxrgvceowkvyg',\n 'ltuzkdkfxrgvceowkvyg',\n 'eiqpplfruzrusjxvullg',\n 'jqluodzbnzyfinqvczls',\n 'leophuyfvzonfnzggfcd',\n 'leophuyfvzonfnzggfcd',\n 'heimdfyzizuqxdzaacew',\n 'heimdfyzizuqxdzaacew',\n 'leophuyfvzonfnzggfcd',\n 'zxoilxhusifrcetlqvwz',\n 'ltuzkdkfxrgvceowkvyg',\n 'ltuzkdkfxrgvceowkvyg',\n 'ltuzkdkfxrgvceowkvyg',\n 'leophuyfvzonfnzggfcd',\n 'leophuyfvzonfnzggfcd',\n 'leophuyfvzonfnzggfcd',\n 'gecbyckzcpmcvydsszkp',\n 'nsretmyftbsjlprtkoax',\n 'nsretmyftbsjlprtkoax',\n 'ltuzkdkfxrgvceowkvyg',\n 'ftjnldytrxawygzymfkv',\n 'ftjnldytrxawygzymfkv',\n 'ltuzkdkfxrgvceowkvyg',\n 'kvorikzfreygvixpclal',\n 'gecbyckzcpmcvydsszkp',\n 'kvorikzfreygvixpclal',\n 'ftjnldytrxawygzymfkv',\n 'bjjuexrherixxeayixqm',\n 'ftjnldytrxawygzymfkv',\n 'ldzwtjmawbaqetnvfboy',\n 'bgtykdhjosjzmutoghiq',\n 'ltuzkdkfxrgvceowkvyg',\n 'ltuzkdkfxrgvceowkvyg',\n 'ltuzkdkfxrgvceowkvyg',\n 'ltuzkdkfxrgvceowkvyg',\n 'ftjnldytrxawygzymfkv',\n 'ltuzkdkfxrgvceowkvyg',\n 'gecbyckzcpmcvydsszkp',\n 'leophuyfvzonfnzggfcd',\n 'leophuyfvzonfnzggfcd',\n 'ltuzkdkfxrgvceowkvyg',\n 'ltuzkdkfxrgvceowkvyg',\n 'ltuzkdkfxrgvceowkvyg',\n 'ltuzkdkfxrgvceowkvyg',\n 'ltuzkdkfxrgvceowkvyg',\n 'hkvdvxqlozgjgaoninzn',\n 'ltuzkdkfxrgvceowkvyg',\n 'tmthbvoccwkczzuwacyq',\n 'ltuzkdkfxrgvceowkvyg',\n 'bjjuexrherixxeayixqm',\n 'ltuzkdkfxrgvceowkvyg',\n 'gecbyckzcpmcvydsszkp',\n 'tmthbvoccwkczzuwacyq',\n 'ltuzkdkfxrgvceowkvyg',\n 'ltuzkdkfxrgvceowkvyg',\n 'leophuyfvzonfnzggfcd',\n 'leophuyfvzonfnzggfcd',\n 'leophuyfvzonfnzggfcd',\n 'gecbyckzcpmcvydsszkp',\n 'ltuzkdkfxrgvceowkvyg',\n 'ltuzkdkfxrgvceowkvyg',\n 'ftjnldytrxawygzymfkv',\n 'leophuyfvzonfnzggfcd',\n 'aqudxfunmxwsdwvgyaxr',\n 'ftjnldytrxawygzymfkv',\n 'tmthbvoccwkczzuwacyq',\n 'ltuzkdkfxrgvceowkvyg',\n 'dneuulzaecfgpvdtzbys',\n 'ftjnldytrxawygzymfkv',\n 'mxqmdyetmticssittjwv',\n 'leophuyfvzonfnzggfcd',\n 'ftjnldytrxawygzymfkv',\n 'sgiudyuknywhvowuoqid',\n 'kgicppxieqfzplpwqzjq',\n 'ftjnldytrxawygzymfkv',\n 'ftjnldytrxawygzymfkv',\n 'leophuyfvzonfnzggfcd',\n 'bvkxkcohkuovkpbrlmgz',\n 'ltuzkdkfxrgvceowkvyg',\n 'ltuzkdkfxrgvceowkvyg',\n 'ltuzkdkfxrgvceowkvyg',\n 'leophuyfvzonfnzggfcd',\n 'ltuzkdkfxrgvceowkvyg',\n 'pxqwduxeuoxfokztbgpy',\n 'gecbyckzcpmcvydsszkp',\n 'sgiudyuknywhvowuoqid',\n 'leophuyfvzonfnzggfcd',\n 'lwjzxkuwmvohpsacerjg',\n 'leophuyfvzonfnzggfcd',\n 'ftjnldytrxawygzymfkv',\n 'qeejxfoctomflzqipapp',\n 'ftjnldytrxawygzymfkv',\n 'ftjnldytrxawygzymfkv',\n 'ftjnldytrxawygzymfkv',\n 'gecbyckzcpmcvydsszkp',\n 'leophuyfvzonfnzggfcd',\n 'gwzgdhkpgmzpnpwkjshu',\n 'leophuyfvzonfnzggfcd',\n 'leophuyfvzonfnzggfcd',\n 'leophuyfvzonfnzggfcd',\n 'leophuyfvzonfnzggfcd',\n 'leophuyfvzonfnzggfcd',\n 'leophuyfvzonfnzggfcd',\n 'dneuulzaecfgpvdtzbys',\n 'ftjnldytrxawygzymfkv',\n 'vbmazutcflyumtdhrqye',\n 'leophuyfvzonfnzggfcd',\n 'ltuzkdkfxrgvceowkvyg',\n 'leophuyfvzonfnzggfcd',\n 'leophuyfvzonfnzggfcd',\n 'leophuyfvzonfnzggfcd',\n 'ltuzkdkfxrgvceowkvyg',\n 'ltuzkdkfxrgvceowkvyg',\n 'ltuzkdkfxrgvceowkvyg',\n 'ltuzkdkfxrgvceowkvyg',\n 'gecbyckzcpmcvydsszkp',\n 'leophuyfvzonfnzggfcd',\n 'leophuyfvzonfnzggfcd',\n 'ltuzkdkfxrgvceowkvyg',\n 'ltuzkdkfxrgvceowkvyg',\n 'leophuyfvzonfnzggfcd',\n 'popacoecpwiansosinie',\n 'leophuyfvzonfnzggfcd',\n 'leophuyfvzonfnzggfcd',\n 'ltuzkdkfxrgvceowkvyg',\n 'ftjnldytrxawygzymfkv',\n 'ftjnldytrxawygzymfkv',\n 'ftjnldytrxawygzymfkv',\n 'gecbyckzcpmcvydsszkp',\n 'wzxcpdflzrgifguqxgpe',\n 'wzxcpdflzrgifguqxgpe',\n 'ltuzkdkfxrgvceowkvyg',\n 'ftjnldytrxawygzymfkv',\n 'leophuyfvzonfnzggfcd',\n 'ltuzkdkfxrgvceowkvyg',\n 'ltuzkdkfxrgvceowkvyg',\n 'ltuzkdkfxrgvceowkvyg',\n 'gecbyckzcpmcvydsszkp',\n 'ltuzkdkfxrgvceowkvyg',\n 'ltuzkdkfxrgvceowkvyg',\n 'xhnuiskkgtepsalavmfq',\n 'xhnuiskkgtepsalavmfq',\n 'xhnuiskkgtepsalavmfq',\n 'ltuzkdkfxrgvceowkvyg',\n 'ftjnldytrxawygzymfkv',\n 'sbjrygvfvcnqkjnddyir',\n 'wpmatvduimutnvmnvpjo',\n 'leophuyfvzonfnzggfcd',\n 'hkvdvxqlozgjgaoninzn',\n 'hkvdvxqlozgjgaoninzn',\n 'leophuyfvzonfnzggfcd',\n 'tmthbvoccwkczzuwacyq',\n 'oktxsmaddkjvntehzijp',\n 'ftjnldytrxawygzymfkv',\n 'gecbyckzcpmcvydsszkp',\n 'sgiudyuknywhvowuoqid',\n 'kvorikzfreygvixpclal',\n 'kvorikzfreygvixpclal',\n 'bjjuexrherixxeayixqm',\n 'bjjuexrherixxeayixqm',\n 'bjjuexrherixxeayixqm',\n 'ltuzkdkfxrgvceowkvyg',\n 'ltuzkdkfxrgvceowkvyg',\n 'ltuzkdkfxrgvceowkvyg',\n 'ltuzkdkfxrgvceowkvyg',\n 'leophuyfvzonfnzggfcd',\n 'ftjnldytrxawygzymfkv',\n 'ftjnldytrxawygzymfkv',\n 'eimruurnhzlaycwrrnxu',\n 'ltuzkdkfxrgvceowkvyg',\n 'leophuyfvzonfnzggfcd',\n 'ltuzkdkfxrgvceowkvyg',\n 'leophuyfvzonfnzggfcd',\n 'leophuyfvzonfnzggfcd',\n 'ltuzkdkfxrgvceowkvyg',\n ...]"
     },
     "execution_count": 84,
     "metadata": {},
     "output_type": "execute_result"
    }
   ],
   "source": [
    "df.utm_campaign.tolist()"
   ],
   "metadata": {
    "collapsed": false,
    "ExecuteTime": {
     "end_time": "2023-10-17T15:30:58.134042Z",
     "start_time": "2023-10-17T15:30:58.129673Z"
    }
   },
   "id": "ef2591d384761176"
  },
  {
   "cell_type": "code",
   "execution_count": 85,
   "outputs": [
    {
     "name": "stdout",
     "output_type": "stream",
     "text": [
      "             utm_campaign  Frequency\n",
      "399  twmqgfwdtgdibaepqhys          1\n",
      "368  inogyxvxafyvshcpijjz          1\n",
      "369  buvfxqupdezxcciozrzm          1\n",
      "370  nuyvxgbeiyqmlnpedtim          1\n",
      "371  wiaghelepwdnwxubhvdb          1\n",
      "..                    ...        ...\n",
      "4    xhnuiskkgtepsalavmfq      22454\n",
      "3    gecbyckzcpmcvydsszkp     135448\n",
      "2    ftjnldytrxawygzymfkv     193525\n",
      "1    leophuyfvzonfnzggfcd     325188\n",
      "0    ltuzkdkfxrgvceowkvyg     603204\n",
      "\n",
      "[400 rows x 2 columns]\n"
     ]
    }
   ],
   "source": [
    "#Сделаем то же самое для редких видов рекламной кампании\n",
    "value_counts = df['utm_campaign'].value_counts()\n",
    "\n",
    "result_df = pd.DataFrame({'utm_campaign': value_counts.index, 'Frequency': value_counts.values})\n",
    "result_df = result_df.sort_values(by='Frequency', ascending=True)\n",
    "\n",
    "# Выведите результат\n",
    "print(result_df)"
   ],
   "metadata": {
    "collapsed": false,
    "ExecuteTime": {
     "end_time": "2023-10-17T15:30:58.209427Z",
     "start_time": "2023-10-17T15:30:58.204998Z"
    }
   },
   "id": "15fb3586f1f936b0"
  },
  {
   "cell_type": "code",
   "execution_count": 86,
   "outputs": [],
   "source": [
    "campaign_quantity = df['utm_campaign'].value_counts()\n",
    "rare_campaign = campaign_quantity[campaign_quantity < 10].index.tolist()\n",
    "df = df[~df['utm_campaign'].isin(rare_campaign)]"
   ],
   "metadata": {
    "collapsed": false,
    "ExecuteTime": {
     "end_time": "2023-10-17T15:30:58.441201Z",
     "start_time": "2023-10-17T15:30:58.254407Z"
    }
   },
   "id": "367f334c36fe5a78"
  },
  {
   "cell_type": "code",
   "execution_count": 87,
   "outputs": [
    {
     "data": {
      "text/plain": "utm_source               255\nutm_medium                43\nutm_campaign             289\nutm_adcontent            260\nutm_keyword             1163\ndevice_category            3\ndevice_brand             189\ndevice_browser            32\ngeo_country              119\ngeo_city                 330\ntarget                     2\nYear                       1\nMonth                      8\nDay                       31\nutm_source_is_social       2\nhour                      24\nminute                    60\nscreen_width             107\nscreen_height            180\ndevice_screen_area      1129\ndevice_screen_ratio     1041\ndtype: int64"
     },
     "execution_count": 87,
     "metadata": {},
     "output_type": "execute_result"
    }
   ],
   "source": [
    "df.nunique()"
   ],
   "metadata": {
    "collapsed": false,
    "ExecuteTime": {
     "end_time": "2023-10-17T15:30:58.992690Z",
     "start_time": "2023-10-17T15:30:58.450462Z"
    }
   },
   "id": "79f78151ef87fc9b"
  },
  {
   "cell_type": "code",
   "execution_count": 88,
   "outputs": [
    {
     "data": {
      "text/plain": "(1662973, 21)"
     },
     "execution_count": 88,
     "metadata": {},
     "output_type": "execute_result"
    }
   ],
   "source": [
    "df.shape"
   ],
   "metadata": {
    "collapsed": false,
    "ExecuteTime": {
     "end_time": "2023-10-17T15:30:58.997432Z",
     "start_time": "2023-10-17T15:30:58.991621Z"
    }
   },
   "id": "e99370be6a63784b"
  },
  {
   "cell_type": "code",
   "execution_count": 89,
   "outputs": [
    {
     "data": {
      "text/plain": "target\n0    1615331\n1      47642\nName: count, dtype: int64"
     },
     "execution_count": 89,
     "metadata": {},
     "output_type": "execute_result"
    }
   ],
   "source": [
    "df.target.value_counts()"
   ],
   "metadata": {
    "collapsed": false,
    "ExecuteTime": {
     "end_time": "2023-10-17T15:30:59.003728Z",
     "start_time": "2023-10-17T15:30:59.000583Z"
    }
   },
   "id": "b7bedc4bb7687635"
  },
  {
   "cell_type": "code",
   "execution_count": 90,
   "id": "efe6f911",
   "metadata": {
    "ExecuteTime": {
     "end_time": "2023-10-17T15:30:59.913311Z",
     "start_time": "2023-10-17T15:30:59.012398Z"
    }
   },
   "outputs": [],
   "source": [
    "df = df.drop_duplicates()"
   ]
  },
  {
   "cell_type": "code",
   "execution_count": 91,
   "outputs": [
    {
     "data": {
      "text/plain": "utm_source              0\nutm_medium              0\nutm_campaign            0\nutm_adcontent           0\nutm_keyword             0\ndevice_category         0\ndevice_brand            0\ndevice_browser          0\ngeo_country             0\ngeo_city                0\ntarget                  0\nYear                    0\nMonth                   0\nDay                     0\nutm_source_is_social    0\nhour                    0\nminute                  0\nscreen_width            0\nscreen_height           0\ndevice_screen_area      0\ndevice_screen_ratio     0\ndtype: int64"
     },
     "execution_count": 91,
     "metadata": {},
     "output_type": "execute_result"
    }
   ],
   "source": [
    "df.isna().sum() #Последняя проверка на отсутствие пропусков в случае каких-то случайных операций"
   ],
   "metadata": {
    "collapsed": false,
    "ExecuteTime": {
     "end_time": "2023-10-17T15:31:00.166217Z",
     "start_time": "2023-10-17T15:31:00.123244Z"
    }
   },
   "id": "dd31acd8d86f1928"
  },
  {
   "cell_type": "code",
   "execution_count": 92,
   "outputs": [
    {
     "name": "stdout",
     "output_type": "stream",
     "text": [
      "<class 'pandas.core.frame.DataFrame'>\n",
      "Index: 1470360 entries, 0 to 1781973\n",
      "Data columns (total 21 columns):\n",
      " #   Column                Non-Null Count    Dtype  \n",
      "---  ------                --------------    -----  \n",
      " 0   utm_source            1470360 non-null  object \n",
      " 1   utm_medium            1470360 non-null  object \n",
      " 2   utm_campaign          1470360 non-null  object \n",
      " 3   utm_adcontent         1470360 non-null  object \n",
      " 4   utm_keyword           1470360 non-null  object \n",
      " 5   device_category       1470360 non-null  object \n",
      " 6   device_brand          1470360 non-null  object \n",
      " 7   device_browser        1470360 non-null  object \n",
      " 8   geo_country           1470360 non-null  object \n",
      " 9   geo_city              1470360 non-null  object \n",
      " 10  target                1470360 non-null  int64  \n",
      " 11  Year                  1470360 non-null  int64  \n",
      " 12  Month                 1470360 non-null  int64  \n",
      " 13  Day                   1470360 non-null  int64  \n",
      " 14  utm_source_is_social  1470360 non-null  int64  \n",
      " 15  hour                  1470360 non-null  int64  \n",
      " 16  minute                1470360 non-null  int64  \n",
      " 17  screen_width          1470360 non-null  int64  \n",
      " 18  screen_height         1470360 non-null  int64  \n",
      " 19  device_screen_area    1470360 non-null  int64  \n",
      " 20  device_screen_ratio   1470360 non-null  float64\n",
      "dtypes: float64(1), int64(10), object(10)\n",
      "memory usage: 246.8+ MB\n"
     ]
    }
   ],
   "source": [
    "df.info()"
   ],
   "metadata": {
    "collapsed": false,
    "ExecuteTime": {
     "end_time": "2023-10-17T15:31:00.420689Z",
     "start_time": "2023-10-17T15:31:00.375611Z"
    }
   },
   "id": "92088aa14df509d3"
  },
  {
   "cell_type": "code",
   "execution_count": 93,
   "outputs": [],
   "source": [
    "#Для оптимизации использования ресурсов переведем object в category\n",
    "for column in df.columns:\n",
    "    if df[column].dtype == 'object':\n",
    "        df[column] = df[column].astype('category')"
   ],
   "metadata": {
    "collapsed": false,
    "ExecuteTime": {
     "end_time": "2023-10-17T15:31:01.013962Z",
     "start_time": "2023-10-17T15:31:00.429183Z"
    }
   },
   "id": "e214e39aee506381"
  },
  {
   "cell_type": "code",
   "execution_count": 94,
   "outputs": [
    {
     "name": "stdout",
     "output_type": "stream",
     "text": [
      "Столбцы с разными типами данных: []\n"
     ]
    }
   ],
   "source": [
    "#Проверка в столбцах на содержание разных типов данных\n",
    "mixed_type_columns = []\n",
    "for column in df.columns:\n",
    "    unique_types = df[column].apply(type).nunique()\n",
    "    if unique_types > 1:\n",
    "        mixed_type_columns.append(column)\n",
    "\n",
    "print(\"Столбцы с разными типами данных:\", mixed_type_columns)"
   ],
   "metadata": {
    "collapsed": false,
    "ExecuteTime": {
     "end_time": "2023-10-17T15:31:02.221373Z",
     "start_time": "2023-10-17T15:31:01.015523Z"
    }
   },
   "id": "b20ce12267f4ae47"
  },
  {
   "cell_type": "code",
   "execution_count": 95,
   "outputs": [
    {
     "data": {
      "text/plain": "                   utm_source utm_medium          utm_campaign  \\\n0        zpyiodjmcfzvopfshgjl     banner  leophuyfvzonfnzggfcd   \n1        mvfhsxitijurizxsqzqt        cpm  ftjnldytrxawygzymfkv   \n2        zpyiodjmcfzvopfshgjl     banner  leophuyfvzonfnzggfcd   \n3        kjslglqlzykirbcdigcd        cpc  ltuzkdkfxrgvceowkvyg   \n4        kjslglqlzykirbcdigcd        cpc  ltuzkdkfxrgvceowkvyg   \n...                       ...        ...                   ...   \n1781969  bhcvlfoacwvwtykyqhve        cpc  ltuzkdkfxrgvceowkvyg   \n1781970  fdllacsmythwscvmvqvl     (none)  ltuzkdkfxrgvceowkvyg   \n1781971  fdllacsmythwscvmvqvl     (none)  ltuzkdkfxrgvceowkvyg   \n1781972  zpyiodjmcfzvopfshgjl     banner  leophuyfvzonfnzggfcd   \n1781973  fgymsotvjkpegaijqsih        cpm  ftjnldytrxawygzymfkv   \n\n                utm_adcontent           utm_keyword device_category  \\\n0        vcipmpagbniqhyynkxqp  puhzpiyqkxefpauvisjo          mobile   \n1        xhoenqgdqsgfepynpwko  igucnvhlhfhprogclcit          mobile   \n2        vcipmpagbniqhyynkxqp  puhzpiyqkxefpauvisjo          mobile   \n3        nobklgtuvqywkxqheywm  puhzpiyqkxefpauvisjo          mobile   \n4        jnhcplzpxemwdnriyobf  puhzpiyqkxefpauvisjo          mobile   \n...                       ...                   ...             ...   \n1781969  jnhcplzpxemwdnriyobf  vlqbmecioxwjcwumqkld         desktop   \n1781970  jnhcplzpxemwdnriyobf  puhzpiyqkxefpauvisjo          mobile   \n1781971  jnhcplzpxemwdnriyobf  puhzpiyqkxefpauvisjo          mobile   \n1781972  jnhcplzpxemwdnriyobf  puhzpiyqkxefpauvisjo          mobile   \n1781973  yydbrbpmbmuzhxwqgxnx  okjxdusycmahkgmhgdar         desktop   \n\n        device_brand    device_browser geo_country     geo_city  \n0             huawei            chrome      russia     zlatoust  \n1            samsung  samsung internet      russia       moscow  \n2             huawei            chrome      russia  krasnoyarsk  \n3             xiaomi            chrome      russia       moscow  \n4             xiaomi            chrome      russia       moscow  \n...              ...               ...         ...          ...  \n1781969        other            chrome      russia       moscow  \n1781970        apple            safari      russia    stavropol  \n1781971        apple            safari      russia       moscow  \n1781972       xiaomi            chrome      russia  chelyabinsk  \n1781973        other            chrome      russia       moscow  \n\n[1470360 rows x 10 columns]",
      "text/html": "<div>\n<style scoped>\n    .dataframe tbody tr th:only-of-type {\n        vertical-align: middle;\n    }\n\n    .dataframe tbody tr th {\n        vertical-align: top;\n    }\n\n    .dataframe thead th {\n        text-align: right;\n    }\n</style>\n<table border=\"1\" class=\"dataframe\">\n  <thead>\n    <tr style=\"text-align: right;\">\n      <th></th>\n      <th>utm_source</th>\n      <th>utm_medium</th>\n      <th>utm_campaign</th>\n      <th>utm_adcontent</th>\n      <th>utm_keyword</th>\n      <th>device_category</th>\n      <th>device_brand</th>\n      <th>device_browser</th>\n      <th>geo_country</th>\n      <th>geo_city</th>\n    </tr>\n  </thead>\n  <tbody>\n    <tr>\n      <th>0</th>\n      <td>zpyiodjmcfzvopfshgjl</td>\n      <td>banner</td>\n      <td>leophuyfvzonfnzggfcd</td>\n      <td>vcipmpagbniqhyynkxqp</td>\n      <td>puhzpiyqkxefpauvisjo</td>\n      <td>mobile</td>\n      <td>huawei</td>\n      <td>chrome</td>\n      <td>russia</td>\n      <td>zlatoust</td>\n    </tr>\n    <tr>\n      <th>1</th>\n      <td>mvfhsxitijurizxsqzqt</td>\n      <td>cpm</td>\n      <td>ftjnldytrxawygzymfkv</td>\n      <td>xhoenqgdqsgfepynpwko</td>\n      <td>igucnvhlhfhprogclcit</td>\n      <td>mobile</td>\n      <td>samsung</td>\n      <td>samsung internet</td>\n      <td>russia</td>\n      <td>moscow</td>\n    </tr>\n    <tr>\n      <th>2</th>\n      <td>zpyiodjmcfzvopfshgjl</td>\n      <td>banner</td>\n      <td>leophuyfvzonfnzggfcd</td>\n      <td>vcipmpagbniqhyynkxqp</td>\n      <td>puhzpiyqkxefpauvisjo</td>\n      <td>mobile</td>\n      <td>huawei</td>\n      <td>chrome</td>\n      <td>russia</td>\n      <td>krasnoyarsk</td>\n    </tr>\n    <tr>\n      <th>3</th>\n      <td>kjslglqlzykirbcdigcd</td>\n      <td>cpc</td>\n      <td>ltuzkdkfxrgvceowkvyg</td>\n      <td>nobklgtuvqywkxqheywm</td>\n      <td>puhzpiyqkxefpauvisjo</td>\n      <td>mobile</td>\n      <td>xiaomi</td>\n      <td>chrome</td>\n      <td>russia</td>\n      <td>moscow</td>\n    </tr>\n    <tr>\n      <th>4</th>\n      <td>kjslglqlzykirbcdigcd</td>\n      <td>cpc</td>\n      <td>ltuzkdkfxrgvceowkvyg</td>\n      <td>jnhcplzpxemwdnriyobf</td>\n      <td>puhzpiyqkxefpauvisjo</td>\n      <td>mobile</td>\n      <td>xiaomi</td>\n      <td>chrome</td>\n      <td>russia</td>\n      <td>moscow</td>\n    </tr>\n    <tr>\n      <th>...</th>\n      <td>...</td>\n      <td>...</td>\n      <td>...</td>\n      <td>...</td>\n      <td>...</td>\n      <td>...</td>\n      <td>...</td>\n      <td>...</td>\n      <td>...</td>\n      <td>...</td>\n    </tr>\n    <tr>\n      <th>1781969</th>\n      <td>bhcvlfoacwvwtykyqhve</td>\n      <td>cpc</td>\n      <td>ltuzkdkfxrgvceowkvyg</td>\n      <td>jnhcplzpxemwdnriyobf</td>\n      <td>vlqbmecioxwjcwumqkld</td>\n      <td>desktop</td>\n      <td>other</td>\n      <td>chrome</td>\n      <td>russia</td>\n      <td>moscow</td>\n    </tr>\n    <tr>\n      <th>1781970</th>\n      <td>fdllacsmythwscvmvqvl</td>\n      <td>(none)</td>\n      <td>ltuzkdkfxrgvceowkvyg</td>\n      <td>jnhcplzpxemwdnriyobf</td>\n      <td>puhzpiyqkxefpauvisjo</td>\n      <td>mobile</td>\n      <td>apple</td>\n      <td>safari</td>\n      <td>russia</td>\n      <td>stavropol</td>\n    </tr>\n    <tr>\n      <th>1781971</th>\n      <td>fdllacsmythwscvmvqvl</td>\n      <td>(none)</td>\n      <td>ltuzkdkfxrgvceowkvyg</td>\n      <td>jnhcplzpxemwdnriyobf</td>\n      <td>puhzpiyqkxefpauvisjo</td>\n      <td>mobile</td>\n      <td>apple</td>\n      <td>safari</td>\n      <td>russia</td>\n      <td>moscow</td>\n    </tr>\n    <tr>\n      <th>1781972</th>\n      <td>zpyiodjmcfzvopfshgjl</td>\n      <td>banner</td>\n      <td>leophuyfvzonfnzggfcd</td>\n      <td>jnhcplzpxemwdnriyobf</td>\n      <td>puhzpiyqkxefpauvisjo</td>\n      <td>mobile</td>\n      <td>xiaomi</td>\n      <td>chrome</td>\n      <td>russia</td>\n      <td>chelyabinsk</td>\n    </tr>\n    <tr>\n      <th>1781973</th>\n      <td>fgymsotvjkpegaijqsih</td>\n      <td>cpm</td>\n      <td>ftjnldytrxawygzymfkv</td>\n      <td>yydbrbpmbmuzhxwqgxnx</td>\n      <td>okjxdusycmahkgmhgdar</td>\n      <td>desktop</td>\n      <td>other</td>\n      <td>chrome</td>\n      <td>russia</td>\n      <td>moscow</td>\n    </tr>\n  </tbody>\n</table>\n<p>1470360 rows × 10 columns</p>\n</div>"
     },
     "execution_count": 95,
     "metadata": {},
     "output_type": "execute_result"
    }
   ],
   "source": [
    "categorical_columns = df.select_dtypes(include=['category'])\n",
    "categorical_columns"
   ],
   "metadata": {
    "collapsed": false,
    "ExecuteTime": {
     "end_time": "2023-10-17T15:31:02.233636Z",
     "start_time": "2023-10-17T15:31:02.220248Z"
    }
   },
   "id": "5ce22d6311760ad3"
  },
  {
   "cell_type": "code",
   "execution_count": 96,
   "outputs": [
    {
     "data": {
      "text/plain": "         Year  Month  Day  utm_source_is_social  hour  minute  screen_width  \\\n0        2021     11   24                     0    14      36           360   \n1        2021     11   14                     1     8      21           385   \n2        2021     12   28                     0     2      42           360   \n3        2021      5   29                     0     5       0           393   \n4        2021      5   29                     0     5       0           393   \n...       ...    ...  ...                   ...   ...     ...           ...   \n1781969  2021     12   22                     0    10      48          1920   \n1781970  2021      5   26                     0     8       0           390   \n1781971  2021     11   15                     0    15      31           375   \n1781972  2021     11   29                     0    15      36           393   \n1781973  2021     12   31                     0    19      39          1366   \n\n         screen_height  device_screen_area  device_screen_ratio  \n0                  720              259200             0.500000  \n1                  854              328790             0.450820  \n2                  720              259200             0.500000  \n3                  786              308898             0.500000  \n4                  786              308898             0.500000  \n...                ...                 ...                  ...  \n1781969           1080             2073600             1.777778  \n1781970            844              329160             0.462085  \n1781971            667              250125             0.562219  \n1781972            851              334443             0.461810  \n1781973            768             1049088             1.778646  \n\n[1470360 rows x 10 columns]",
      "text/html": "<div>\n<style scoped>\n    .dataframe tbody tr th:only-of-type {\n        vertical-align: middle;\n    }\n\n    .dataframe tbody tr th {\n        vertical-align: top;\n    }\n\n    .dataframe thead th {\n        text-align: right;\n    }\n</style>\n<table border=\"1\" class=\"dataframe\">\n  <thead>\n    <tr style=\"text-align: right;\">\n      <th></th>\n      <th>Year</th>\n      <th>Month</th>\n      <th>Day</th>\n      <th>utm_source_is_social</th>\n      <th>hour</th>\n      <th>minute</th>\n      <th>screen_width</th>\n      <th>screen_height</th>\n      <th>device_screen_area</th>\n      <th>device_screen_ratio</th>\n    </tr>\n  </thead>\n  <tbody>\n    <tr>\n      <th>0</th>\n      <td>2021</td>\n      <td>11</td>\n      <td>24</td>\n      <td>0</td>\n      <td>14</td>\n      <td>36</td>\n      <td>360</td>\n      <td>720</td>\n      <td>259200</td>\n      <td>0.500000</td>\n    </tr>\n    <tr>\n      <th>1</th>\n      <td>2021</td>\n      <td>11</td>\n      <td>14</td>\n      <td>1</td>\n      <td>8</td>\n      <td>21</td>\n      <td>385</td>\n      <td>854</td>\n      <td>328790</td>\n      <td>0.450820</td>\n    </tr>\n    <tr>\n      <th>2</th>\n      <td>2021</td>\n      <td>12</td>\n      <td>28</td>\n      <td>0</td>\n      <td>2</td>\n      <td>42</td>\n      <td>360</td>\n      <td>720</td>\n      <td>259200</td>\n      <td>0.500000</td>\n    </tr>\n    <tr>\n      <th>3</th>\n      <td>2021</td>\n      <td>5</td>\n      <td>29</td>\n      <td>0</td>\n      <td>5</td>\n      <td>0</td>\n      <td>393</td>\n      <td>786</td>\n      <td>308898</td>\n      <td>0.500000</td>\n    </tr>\n    <tr>\n      <th>4</th>\n      <td>2021</td>\n      <td>5</td>\n      <td>29</td>\n      <td>0</td>\n      <td>5</td>\n      <td>0</td>\n      <td>393</td>\n      <td>786</td>\n      <td>308898</td>\n      <td>0.500000</td>\n    </tr>\n    <tr>\n      <th>...</th>\n      <td>...</td>\n      <td>...</td>\n      <td>...</td>\n      <td>...</td>\n      <td>...</td>\n      <td>...</td>\n      <td>...</td>\n      <td>...</td>\n      <td>...</td>\n      <td>...</td>\n    </tr>\n    <tr>\n      <th>1781969</th>\n      <td>2021</td>\n      <td>12</td>\n      <td>22</td>\n      <td>0</td>\n      <td>10</td>\n      <td>48</td>\n      <td>1920</td>\n      <td>1080</td>\n      <td>2073600</td>\n      <td>1.777778</td>\n    </tr>\n    <tr>\n      <th>1781970</th>\n      <td>2021</td>\n      <td>5</td>\n      <td>26</td>\n      <td>0</td>\n      <td>8</td>\n      <td>0</td>\n      <td>390</td>\n      <td>844</td>\n      <td>329160</td>\n      <td>0.462085</td>\n    </tr>\n    <tr>\n      <th>1781971</th>\n      <td>2021</td>\n      <td>11</td>\n      <td>15</td>\n      <td>0</td>\n      <td>15</td>\n      <td>31</td>\n      <td>375</td>\n      <td>667</td>\n      <td>250125</td>\n      <td>0.562219</td>\n    </tr>\n    <tr>\n      <th>1781972</th>\n      <td>2021</td>\n      <td>11</td>\n      <td>29</td>\n      <td>0</td>\n      <td>15</td>\n      <td>36</td>\n      <td>393</td>\n      <td>851</td>\n      <td>334443</td>\n      <td>0.461810</td>\n    </tr>\n    <tr>\n      <th>1781973</th>\n      <td>2021</td>\n      <td>12</td>\n      <td>31</td>\n      <td>0</td>\n      <td>19</td>\n      <td>39</td>\n      <td>1366</td>\n      <td>768</td>\n      <td>1049088</td>\n      <td>1.778646</td>\n    </tr>\n  </tbody>\n</table>\n<p>1470360 rows × 10 columns</p>\n</div>"
     },
     "execution_count": 96,
     "metadata": {},
     "output_type": "execute_result"
    }
   ],
   "source": [
    "numerical_columns = df.drop('target', axis=1).select_dtypes(include=['int64', 'float64'])\n",
    "numerical_columns"
   ],
   "metadata": {
    "collapsed": false,
    "ExecuteTime": {
     "end_time": "2023-10-17T15:31:02.303933Z",
     "start_time": "2023-10-17T15:31:02.232271Z"
    }
   },
   "id": "77cca1932c6500a"
  },
  {
   "cell_type": "code",
   "execution_count": 97,
   "outputs": [
    {
     "data": {
      "text/plain": "<Figure size 2400x1200 with 2 Axes>",
      "image/png": "[encoded data removed]"
     },
     "metadata": {},
     "output_type": "display_data"
    }
   ],
   "source": [
    "#Посмотрим на корреляции между числовыми признаками, видно что она довольно высокая в признаках относящихся к разрешению дисплея\n",
    "plt.figure(figsize=(24,12))\n",
    "sns.heatmap(numerical_columns.corr(), annot=True, fmt='0.2f', cmap= 'gnuplot')\n",
    "plt.title('Корреляция числовых признаков');"
   ],
   "metadata": {
    "collapsed": false,
    "ExecuteTime": {
     "end_time": "2023-10-17T15:31:02.704620Z",
     "start_time": "2023-10-17T15:31:02.268078Z"
    }
   },
   "id": "2e99ce40eb8e05ec"
  },
  {
   "cell_type": "code",
   "execution_count": 98,
   "outputs": [],
   "source": [
    "df.to_csv('cleared_df.csv', index=False)"
   ],
   "metadata": {
    "collapsed": false,
    "ExecuteTime": {
     "end_time": "2023-10-17T15:31:07.486218Z",
     "start_time": "2023-10-17T15:31:02.711373Z"
    }
   },
   "id": "fcd63433fa591e3"
  }
 ],
 "metadata": {
  "kernelspec": {
   "display_name": "Python 3 (ipykernel)",
   "language": "python",
   "name": "python3"
  },
  "language_info": {
   "codemirror_mode": {
    "name": "ipython",
    "version": 3
   },
   "file_extension": ".py",
   "mimetype": "text/x-python",
   "name": "python",
   "nbconvert_exporter": "python",
   "pygments_lexer": "ipython3",
   "version": "3.9.18"
  }
 },
 "nbformat": 4,
 "nbformat_minor": 5
}
